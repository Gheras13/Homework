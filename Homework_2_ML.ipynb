{
  "nbformat": 4,
  "nbformat_minor": 0,
  "metadata": {
    "colab": {
      "provenance": [],
      "authorship_tag": "ABX9TyPP3yUVMbqp/KMf48HO4rwp",
      "include_colab_link": true
    },
    "kernelspec": {
      "name": "python3",
      "display_name": "Python 3"
    },
    "language_info": {
      "name": "python"
    }
  },
  "cells": [
    {
      "cell_type": "markdown",
      "metadata": {
        "id": "view-in-github",
        "colab_type": "text"
      },
      "source": [
        "<a href=\"https://colab.research.google.com/github/Gheras13/Homework/blob/main/Homework_2_ML.ipynb\" target=\"_parent\"><img src=\"https://colab.research.google.com/assets/colab-badge.svg\" alt=\"Open In Colab\"/></a>"
      ]
    },
    {
      "cell_type": "markdown",
      "source": [
        "#HOMEWOWRK_2  CAR RACING"
      ],
      "metadata": {
        "id": "Qwmlo7ANUhK1"
      }
    },
    {
      "cell_type": "markdown",
      "source": [
        "#Caricamento dataset"
      ],
      "metadata": {
        "id": "BUXqy-Z_UpCz"
      }
    },
    {
      "cell_type": "code",
      "source": [
        "import zipfile\n",
        "import os\n",
        "\n",
        "# Percorsi dei file ZIP\n",
        "train_path = \"/content/train/train\"  # Percorso corretto per la cartella con le classi\n",
        "test_path = \"/content/test/test\"     # Percorso corretto per la cartella con le classi\n",
        "\n",
        "\n",
        "# Estrai i file ZIP\n",
        "with zipfile.ZipFile(train_zip_path, 'r') as zip_ref:\n",
        "    zip_ref.extractall(\"/content/train\")\n",
        "\n",
        "with zipfile.ZipFile(test_zip_path, 'r') as zip_ref:\n",
        "    zip_ref.extractall(\"/content/test\")\n",
        "\n",
        "# Verifica il contenuto estratto\n",
        "print(\"Contenuto train:\", os.listdir(train_path))\n",
        "print(\"Contenuto test:\", os.listdir(test_path))\n"
      ],
      "metadata": {
        "colab": {
          "base_uri": "https://localhost:8080/"
        },
        "id": "gogwesnbXHE4",
        "outputId": "451845f2-3e5c-43f6-d4c3-99f79f8d41c6"
      },
      "execution_count": 15,
      "outputs": [
        {
          "output_type": "stream",
          "name": "stdout",
          "text": [
            "Contenuto train: ['4', '1', '0', '3', '2']\n",
            "Contenuto test: ['4', '1', '0', '3', '2']\n"
          ]
        }
      ]
    },
    {
      "cell_type": "code",
      "source": [
        "from tensorflow.keras.utils import image_dataset_from_directory\n",
        "\n",
        "# Percorsi delle cartelle\n",
        "train_path = \"/content/train\"\n",
        "test_path = \"/content/test\"\n",
        "\n",
        "# Carica il dataset di training\n",
        "train_dataset = image_dataset_from_directory(\n",
        "    train_path,\n",
        "    image_size=(96, 96),  # Dimensione delle immagini\n",
        "    batch_size=32,\n",
        "    label_mode='int'      # Etichette numeriche\n",
        ")\n",
        "\n",
        "# Carica il dataset di test\n",
        "test_dataset = image_dataset_from_directory(\n",
        "    test_path,\n",
        "    image_size=(96, 96),\n",
        "    batch_size=32,\n",
        "    label_mode='int'\n",
        ")\n",
        "\n",
        "print(\"Dataset di training e test caricati con successo!\")"
      ],
      "metadata": {
        "colab": {
          "base_uri": "https://localhost:8080/"
        },
        "id": "X2doE3wucRAU",
        "outputId": "cea91336-e3cd-422a-eb13-806e052185d7"
      },
      "execution_count": 16,
      "outputs": [
        {
          "output_type": "stream",
          "name": "stdout",
          "text": [
            "Found 6369 files belonging to 1 classes.\n",
            "Found 2749 files belonging to 1 classes.\n",
            "Dataset di training e test caricati con successo!\n"
          ]
        }
      ]
    },
    {
      "cell_type": "code",
      "source": [
        "def normalize(image, label):\n",
        "    image = tf.cast(image, tf.float32) / 255.0\n",
        "    return image, label\n",
        "\n",
        "train_dataset = train_dataset.map(normalize)\n",
        "test_dataset = test_dataset.map(normalize)\n",
        "\n",
        "print(\"Normalizzazione completata!\")\n"
      ],
      "metadata": {
        "colab": {
          "base_uri": "https://localhost:8080/"
        },
        "id": "1a-wEQEicfWN",
        "outputId": "45227337-12c3-4640-d029-ca1b7a966e3a"
      },
      "execution_count": 17,
      "outputs": [
        {
          "output_type": "stream",
          "name": "stdout",
          "text": [
            "Normalizzazione completata!\n"
          ]
        }
      ]
    },
    {
      "cell_type": "code",
      "source": [
        "for image_batch, label_batch in train_dataset.take(1):\n",
        "    print(\"Shape batch di immagini:\", image_batch.shape)\n",
        "    print(\"Batch di etichette:\", label_batch)\n"
      ],
      "metadata": {
        "colab": {
          "base_uri": "https://localhost:8080/"
        },
        "id": "fkPcI7ixciFk",
        "outputId": "c3e6a1b8-9e83-4419-e12c-e80e59907391"
      },
      "execution_count": 18,
      "outputs": [
        {
          "output_type": "stream",
          "name": "stdout",
          "text": [
            "Shape batch di immagini: (32, 96, 96, 3)\n",
            "Batch di etichette: tf.Tensor([0 0 0 0 0 0 0 0 0 0 0 0 0 0 0 0 0 0 0 0 0 0 0 0 0 0 0 0 0 0 0 0], shape=(32,), dtype=int32)\n"
          ]
        }
      ]
    }
  ]
}
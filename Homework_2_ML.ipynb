{
  "nbformat": 4,
  "nbformat_minor": 0,
  "metadata": {
    "colab": {
      "provenance": [],
      "authorship_tag": "ABX9TyNf9J8AqCKWSMrEAYTbqzEV",
      "include_colab_link": true
    },
    "kernelspec": {
      "name": "python3",
      "display_name": "Python 3"
    },
    "language_info": {
      "name": "python"
    }
  },
  "cells": [
    {
      "cell_type": "markdown",
      "metadata": {
        "id": "view-in-github",
        "colab_type": "text"
      },
      "source": [
        "<a href=\"https://colab.research.google.com/github/Gheras13/Homework/blob/main/Homework_2_ML.ipynb\" target=\"_parent\"><img src=\"https://colab.research.google.com/assets/colab-badge.svg\" alt=\"Open In Colab\"/></a>"
      ]
    },
    {
      "cell_type": "markdown",
      "source": [
        "#HOMEWOWRK_2  CAR RACING"
      ],
      "metadata": {
        "id": "Qwmlo7ANUhK1"
      }
    },
    {
      "cell_type": "markdown",
      "source": [
        "#Import"
      ],
      "metadata": {
        "id": "o-wcaWpJg1gQ"
      }
    },
    {
      "cell_type": "code",
      "source": [
        "import random\n",
        "import numpy as np\n",
        "import matplotlib.pyplot as plt\n",
        "import tensorflow as tf\n",
        "import os\n",
        "import zipfile"
      ],
      "metadata": {
        "id": "4IMxKe2Rd7-7"
      },
      "execution_count": 28,
      "outputs": []
    },
    {
      "cell_type": "markdown",
      "source": [
        "#Caricamento dataset"
      ],
      "metadata": {
        "id": "BUXqy-Z_UpCz"
      }
    },
    {
      "cell_type": "code",
      "source": [
        "\n",
        "# Percorsi dei file ZIP\n",
        "train_path = \"/content/train/train\"\n",
        "test_path = \"/content/test/test\"\n",
        "\n",
        "\n",
        "# Estrazione file\n",
        "with zipfile.ZipFile(train_zip_path, 'r') as zip_ref:\n",
        "    zip_ref.extractall(\"/content/train\")\n",
        "\n",
        "with zipfile.ZipFile(test_zip_path, 'r') as zip_ref:\n",
        "    zip_ref.extractall(\"/content/test\")\n",
        "\n",
        "print(\"Contenuto train:\", os.listdir(train_path))\n",
        "print(\"Contenuto test:\", os.listdir(test_path))\n"
      ],
      "metadata": {
        "colab": {
          "base_uri": "https://localhost:8080/"
        },
        "id": "gogwesnbXHE4",
        "outputId": "bb8c9a7f-ada9-4d92-a8a9-ba7e40651969"
      },
      "execution_count": 29,
      "outputs": [
        {
          "output_type": "stream",
          "name": "stdout",
          "text": [
            "Contenuto train: ['4', '1', '0', '3', '2']\n",
            "Contenuto test: ['4', '1', '0', '3', '2']\n"
          ]
        }
      ]
    },
    {
      "cell_type": "code",
      "source": [
        "\n",
        "\n",
        "def load_custom_dataset(train_path, test_path, image_size=(96, 96)):\n",
        "    # Carica le immagini da directory\n",
        "    train_dataset = tf.keras.utils.image_dataset_from_directory(\n",
        "        train_path,\n",
        "        image_size=image_size,\n",
        "        batch_size=None,\n",
        "        label_mode='int'\n",
        "    )\n",
        "\n",
        "    test_dataset = tf.keras.utils.image_dataset_from_directory(\n",
        "        test_path,\n",
        "        image_size=image_size,\n",
        "        batch_size=None,\n",
        "        label_mode='int'\n",
        "    )\n",
        "\n",
        "    # Conversione in tensori\n",
        "    Xtrain = np.array([img.numpy() for img, _ in train_dataset])\n",
        "    Ytrain = np.array([label.numpy() for _, label in train_dataset])\n",
        "    Xtest = np.array([img.numpy() for img, _ in test_dataset])\n",
        "    Ytest = np.array([label.numpy() for _, label in test_dataset])\n",
        "\n",
        "    input_shape = (image_size[0], image_size[1], 3)\n",
        "    num_classes = len(np.unique(Ytrain))\n",
        "\n",
        "    print(\"Training input shape:\", Xtrain.shape)\n",
        "    print(\"Training output shape:\", Ytrain.shape)\n",
        "    print(\"Test input shape:\", Xtest.shape)\n",
        "    print(\"Test output shape:\", Ytest.shape)\n",
        "    print(\"Input shape:\", input_shape)\n",
        "    print(\"Number of classes:\", num_classes)\n",
        "\n",
        "    # Normalizzazione delle immagini tra [0,1]\n",
        "    Xtrain = Xtrain / 255.0\n",
        "    Xtest = Xtest / 255.0\n",
        "\n",
        "    #one-hot encoding\n",
        "    Ytrain = tf.keras.utils.to_categorical(Ytrain, num_classes)\n",
        "    Ytest = tf.keras.utils.to_categorical(Ytest, num_classes)\n",
        "\n",
        "    return [Xtrain, Ytrain, Xtest, Ytest, input_shape, num_classes]\n",
        "\n",
        "# Percorsi delle cartelle\n",
        "train_path = \"/content/train/train\"\n",
        "test_path = \"/content/test/test\"\n",
        "\n",
        "# Carica i dati\n",
        "[Xtrain, Ytrain, Xtest, Ytest, input_shape, num_classes] = load_custom_dataset(train_path, test_path)\n"
      ],
      "metadata": {
        "colab": {
          "base_uri": "https://localhost:8080/"
        },
        "id": "-jCESZTbdrAk",
        "outputId": "a32c53e1-4669-4f74-c0d2-394543d8fe4f"
      },
      "execution_count": 31,
      "outputs": [
        {
          "output_type": "stream",
          "name": "stdout",
          "text": [
            "Found 6369 files belonging to 5 classes.\n",
            "Found 2749 files belonging to 5 classes.\n",
            "Training input shape: (6369, 96, 96, 3)\n",
            "Training output shape: (6369,)\n",
            "Test input shape: (2749, 96, 96, 3)\n",
            "Test output shape: (2749,)\n",
            "Input shape: (96, 96, 3)\n",
            "Number of classes: 5\n"
          ]
        }
      ]
    },
    {
      "cell_type": "markdown",
      "source": [
        "#Immagine casuale"
      ],
      "metadata": {
        "id": "xxv1-m0niJTO"
      }
    },
    {
      "cell_type": "code",
      "source": [
        "i = random.randrange(0,Xtrain.shape[0])\n",
        "image = Xtrain[i]\n",
        "image = np.array(image, dtype='float')\n",
        "\n",
        "label = Ytrain[i].argmax()\n",
        "print(label)\n",
        "\n",
        "plt.imshow(image, cmap='Greens')\n",
        "plt.show()\n"
      ],
      "metadata": {
        "colab": {
          "base_uri": "https://localhost:8080/",
          "height": 451
        },
        "id": "FgWykLj8dwjd",
        "outputId": "913c77aa-d93c-4107-8489-ebb55ee37e78"
      },
      "execution_count": 36,
      "outputs": [
        {
          "output_type": "stream",
          "name": "stdout",
          "text": [
            "4\n"
          ]
        },
        {
          "output_type": "display_data",
          "data": {
            "text/plain": [
              "<Figure size 640x480 with 1 Axes>"
            ],
            "image/png": "[encoded data removed]"
          },
          "metadata": {}
        }
      ]
    }
  ]
}
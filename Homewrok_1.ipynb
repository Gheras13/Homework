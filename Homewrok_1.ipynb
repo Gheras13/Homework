{
  "nbformat": 4,
  "nbformat_minor": 0,
  "metadata": {
    "colab": {
      "provenance": [],
      "authorship_tag": "ABX9TyMBPSZkA4Ov0fiVvMtJ9ld1",
      "include_colab_link": true
    },
    "kernelspec": {
      "name": "python3",
      "display_name": "Python 3"
    },
    "language_info": {
      "name": "python"
    }
  },
  "cells": [
    {
      "cell_type": "markdown",
      "metadata": {
        "id": "view-in-github",
        "colab_type": "text"
      },
      "source": [
        "<a href=\"https://colab.research.google.com/github/Gheras13/Homework/blob/main/Homewrok_1.ipynb\" target=\"_parent\"><img src=\"https://colab.research.google.com/assets/colab-badge.svg\" alt=\"Open In Colab\"/></a>"
      ]
    },
    {
      "cell_type": "markdown",
      "source": [
        "#MACHINE LEARNING HOMEWORK 1\n",
        "\n",
        "#DIRECT KINEMATICS OF ROBOT MANIPLUATOR"
      ],
      "metadata": {
        "id": "7u7FEl8kWjQW"
      }
    },
    {
      "cell_type": "code",
      "execution_count": 21,
      "metadata": {
        "id": "GMC0IvrZxBSH"
      },
      "outputs": [],
      "source": [
        "import numpy as np\n",
        "import tensorflow as tf\n",
        "import pandas as pd\n",
        "from sklearn.model_selection import train_test_split\n",
        "from sklearn.preprocessing import StandardScaler\n",
        "import matplotlib.pyplot as plt\n"
      ]
    },
    {
      "cell_type": "code",
      "source": [
        "from google.colab import drive\n",
        "drive.mount('/content/drive')\n"
      ],
      "metadata": {
        "colab": {
          "base_uri": "https://localhost:8080/"
        },
        "id": "n3BjXK3Q2vtj",
        "outputId": "ce316d1c-aded-40db-f291-746167c9794e"
      },
      "execution_count": 22,
      "outputs": [
        {
          "output_type": "stream",
          "name": "stdout",
          "text": [
            "Drive already mounted at /content/drive; to attempt to forcibly remount, call drive.mount(\"/content/drive\", force_remount=True).\n"
          ]
        }
      ]
    },
    {
      "cell_type": "markdown",
      "source": [
        "# Generate Data"
      ],
      "metadata": {
        "id": "WTdw6AwT2Ydx"
      }
    },
    {
      "cell_type": "code",
      "source": [
        "\n",
        "\n",
        "# Percorso del file CSV\n",
        "file_path = '/content/drive/My Drive/File_csv/Copia di r2_20_100k.csv'\n",
        "# Carica il dataset\n",
        "dataset = pd.read_csv(file_path, sep=';', header=0)\n",
        "\n",
        "# Rimuovi eventuali spazi dai nomi delle colonne\n",
        "dataset.columns = dataset.columns.str.strip()\n",
        "#prendo i primi 1000 samples\n",
        "df = dataset.iloc[:10000]\n",
        "# Stampa i nomi delle colonne disponibili\n",
        "print(\"Colonne disponibili nel dataset:\", df.columns.tolist())\n",
        "\n",
        "# Estrai le feature (j0, j1) e i target (ee_x, ee_y)\n",
        "X = df[['j0', 'j1']].values  # Angoli articolari\n",
        "Y = df[['ee_x', 'ee_y']].values  # Posizioni finali (end-effector)\n",
        "\n",
        "# Verifica i dati caricati\n",
        "print(\"Esempio di X (features):\", X[:5])  # Prime 5 righe delle feature\n",
        "print(\"Esempio di Y (target):\", Y[:5])  # Prime 5 righe del target\n"
      ],
      "metadata": {
        "colab": {
          "base_uri": "https://localhost:8080/"
        },
        "id": "yqA2qADU2Tfg",
        "outputId": "64785d02-24f6-43c3-a2c4-b53d4b713a41"
      },
      "execution_count": 23,
      "outputs": [
        {
          "output_type": "stream",
          "name": "stdout",
          "text": [
            "Colonne disponibili nel dataset: ['j0', 'j1', 'cos(j0)', 'cos(j1)', 'sin(j0)', 'sin(j1)', 'ee_x', 'ee_y', 'ee_qw', 'ee_qz']\n",
            "Esempio di X (features): [[-0.044 -0.008]\n",
            " [-0.062 -0.011]\n",
            " [-0.126 -0.015]\n",
            " [-0.226 -0.051]\n",
            " [-0.364 -0.082]]\n",
            "Esempio di Y (target): [[ 0.21  -0.01 ]\n",
            " [ 0.21  -0.014]\n",
            " [ 0.208 -0.028]\n",
            " [ 0.203 -0.053]\n",
            " [ 0.193 -0.083]]\n"
          ]
        }
      ]
    },
    {
      "cell_type": "code",
      "source": [
        "# Dividi i dati in training e testing\n",
        "X_train, X_test, Y_train, Y_test = train_test_split(X, Y, test_size=0.2, random_state=42)\n",
        "\n",
        "# (Opzionale) Standardizza gli input per migliorare la stabilità numerica\n",
        "scaler_X = StandardScaler()\n",
        "scaler_Y = StandardScaler()\n",
        "\n",
        "X_train = scaler_X.fit_transform(X_train)\n",
        "X_test = scaler_X.transform(X_test)\n",
        "\n",
        "Y_train = scaler_Y.fit_transform(Y_train)\n",
        "Y_test = scaler_Y.transform(Y_test)"
      ],
      "metadata": {
        "id": "Ez9Y2iKpMJqJ"
      },
      "execution_count": 24,
      "outputs": []
    },
    {
      "cell_type": "markdown",
      "source": [
        "# Test del modello"
      ],
      "metadata": {
        "id": "HfIHF2z-WH8H"
      }
    },
    {
      "cell_type": "markdown",
      "source": [
        "Rete neurale FeedForward con tensorflow\n",
        "\n",
        "Definisce una rete neurale feedforward in cui i layer sono collegati uno dopo l'altro (architettura sequenziale).\n",
        "Ogni layer prende in input l'output del layer precedente.\n",
        "\n",
        "Definizione di una rete neurale feedforward per la cinematica diretta.\n",
        " Struttura:\n",
        " - Input: 2 caratteristiche (angoli articolari).\n",
        " - 3 layer nascosti con attivazione ReLU.\n",
        " - Output: 2 caratteristiche (posizione terminale x, y).\n"
      ],
      "metadata": {
        "id": "CLwmCkjQWZ_Y"
      }
    },
    {
      "cell_type": "code",
      "source": [
        "def build_model():\n",
        "    model = tf.keras.Sequential([\n",
        "        tf.keras.layers.Dense(64, activation='relu', input_shape=(2,)),\n",
        "        tf.keras.layers.Dense(128, activation='relu'),\n",
        "        tf.keras.layers.Dense(64, activation='relu'),\n",
        "        tf.keras.layers.Dense(2)\n",
        "    ])\n",
        "    return model\n"
      ],
      "metadata": {
        "id": "1mVY2CS9MTLL"
      },
      "execution_count": 25,
      "outputs": []
    },
    {
      "cell_type": "markdown",
      "source": [
        " Configurazione del modello per l'addestramento:\n",
        " - Ottimizzatore: Adam (learning_rate=0.01).\n",
        " - Funzione di perdita: Mean Squared Error (MSE).\n",
        " - Metriche: Mean Absolute Error (MAE).\n"
      ],
      "metadata": {
        "id": "HAczh-_rX-yS"
      }
    },
    {
      "cell_type": "markdown",
      "source": [
        "# Valutazione finale del modello sul set di test.\n",
        "# Metriche:\n",
        "# - `loss`: Errore quadratico medio (MSE), risulterà essere la nostra LOSS FUNCTION.\n",
        "# - `mae`: Errore assoluto medio.\n",
        "# Come SOLVER è stato scelto ADAM\n"
      ],
      "metadata": {
        "id": "__wD-_mYYI0H"
      }
    },
    {
      "cell_type": "code",
      "source": [
        "# Costruzione e compilazione del modello\n",
        "model = build_model()\n",
        "model.compile(\n",
        "    optimizer=tf.keras.optimizers.Adam(learning_rate=0.01),\n",
        "    loss='mse',\n",
        "    metrics=['mae']\n",
        ")\n",
        "\n",
        "# Addestramento\n",
        "history = model.fit(\n",
        "    X_train, Y_train,\n",
        "    validation_data=(X_test, Y_test),\n",
        "    epochs=20,\n",
        "    batch_size=64,\n",
        "    verbose=1\n",
        ")\n",
        "\n",
        "# Valutazione sul test set\n",
        "loss, mae = model.evaluate(X_test, Y_test)\n",
        "print(f\"Test Loss: {loss}, Test MAE: {mae}\")\n",
        "\n",
        "# Traccia l'andamento della perdita\n",
        "plt.plot(history.history['loss'], label='Training Loss')\n",
        "plt.plot(history.history['val_loss'], label='Validation Loss')\n",
        "plt.legend()\n",
        "plt.show()\n"
      ],
      "metadata": {
        "colab": {
          "base_uri": "https://localhost:8080/",
          "height": 1000
        },
        "id": "3lhGmI-qNAtW",
        "outputId": "71513197-b9d2-47b6-e7c2-49de6fcf9059"
      },
      "execution_count": 26,
      "outputs": [
        {
          "output_type": "stream",
          "name": "stdout",
          "text": [
            "Epoch 1/20\n"
          ]
        },
        {
          "output_type": "stream",
          "name": "stderr",
          "text": [
            "/usr/local/lib/python3.10/dist-packages/keras/src/layers/core/dense.py:87: UserWarning: Do not pass an `input_shape`/`input_dim` argument to a layer. When using Sequential models, prefer using an `Input(shape)` object as the first layer in the model instead.\n",
            "  super().__init__(activity_regularizer=activity_regularizer, **kwargs)\n"
          ]
        },
        {
          "output_type": "stream",
          "name": "stdout",
          "text": [
            "\u001b[1m125/125\u001b[0m \u001b[32m━━━━━━━━━━━━━━━━━━━━\u001b[0m\u001b[37m\u001b[0m \u001b[1m2s\u001b[0m 4ms/step - loss: 0.3719 - mae: 0.4256 - val_loss: 0.0096 - val_mae: 0.0772\n",
            "Epoch 2/20\n",
            "\u001b[1m125/125\u001b[0m \u001b[32m━━━━━━━━━━━━━━━━━━━━\u001b[0m\u001b[37m\u001b[0m \u001b[1m0s\u001b[0m 3ms/step - loss: 0.0072 - mae: 0.0636 - val_loss: 0.0051 - val_mae: 0.0558\n",
            "Epoch 3/20\n",
            "\u001b[1m125/125\u001b[0m \u001b[32m━━━━━━━━━━━━━━━━━━━━\u001b[0m\u001b[37m\u001b[0m \u001b[1m1s\u001b[0m 3ms/step - loss: 0.0046 - mae: 0.0528 - val_loss: 0.0079 - val_mae: 0.0707\n",
            "Epoch 4/20\n",
            "\u001b[1m125/125\u001b[0m \u001b[32m━━━━━━━━━━━━━━━━━━━━\u001b[0m\u001b[37m\u001b[0m \u001b[1m0s\u001b[0m 3ms/step - loss: 0.0053 - mae: 0.0560 - val_loss: 0.0044 - val_mae: 0.0515\n",
            "Epoch 5/20\n",
            "\u001b[1m125/125\u001b[0m \u001b[32m━━━━━━━━━━━━━━━━━━━━\u001b[0m\u001b[37m\u001b[0m \u001b[1m0s\u001b[0m 3ms/step - loss: 0.0078 - mae: 0.0680 - val_loss: 0.0085 - val_mae: 0.0686\n",
            "Epoch 6/20\n",
            "\u001b[1m125/125\u001b[0m \u001b[32m━━━━━━━━━━━━━━━━━━━━\u001b[0m\u001b[37m\u001b[0m \u001b[1m0s\u001b[0m 3ms/step - loss: 0.0048 - mae: 0.0525 - val_loss: 0.0027 - val_mae: 0.0398\n",
            "Epoch 7/20\n",
            "\u001b[1m125/125\u001b[0m \u001b[32m━━━━━━━━━━━━━━━━━━━━\u001b[0m\u001b[37m\u001b[0m \u001b[1m0s\u001b[0m 3ms/step - loss: 0.0025 - mae: 0.0382 - val_loss: 0.0050 - val_mae: 0.0525\n",
            "Epoch 8/20\n",
            "\u001b[1m125/125\u001b[0m \u001b[32m━━━━━━━━━━━━━━━━━━━━\u001b[0m\u001b[37m\u001b[0m \u001b[1m0s\u001b[0m 3ms/step - loss: 0.0031 - mae: 0.0423 - val_loss: 0.0029 - val_mae: 0.0403\n",
            "Epoch 9/20\n",
            "\u001b[1m125/125\u001b[0m \u001b[32m━━━━━━━━━━━━━━━━━━━━\u001b[0m\u001b[37m\u001b[0m \u001b[1m1s\u001b[0m 3ms/step - loss: 0.0025 - mae: 0.0385 - val_loss: 0.0067 - val_mae: 0.0639\n",
            "Epoch 10/20\n",
            "\u001b[1m125/125\u001b[0m \u001b[32m━━━━━━━━━━━━━━━━━━━━\u001b[0m\u001b[37m\u001b[0m \u001b[1m1s\u001b[0m 3ms/step - loss: 0.0109 - mae: 0.0786 - val_loss: 0.0022 - val_mae: 0.0362\n",
            "Epoch 11/20\n",
            "\u001b[1m125/125\u001b[0m \u001b[32m━━━━━━━━━━━━━━━━━━━━\u001b[0m\u001b[37m\u001b[0m \u001b[1m0s\u001b[0m 3ms/step - loss: 0.0022 - mae: 0.0351 - val_loss: 0.0026 - val_mae: 0.0371\n",
            "Epoch 12/20\n",
            "\u001b[1m125/125\u001b[0m \u001b[32m━━━━━━━━━━━━━━━━━━━━\u001b[0m\u001b[37m\u001b[0m \u001b[1m0s\u001b[0m 3ms/step - loss: 0.0013 - mae: 0.0273 - val_loss: 0.0028 - val_mae: 0.0413\n",
            "Epoch 13/20\n",
            "\u001b[1m125/125\u001b[0m \u001b[32m━━━━━━━━━━━━━━━━━━━━\u001b[0m\u001b[37m\u001b[0m \u001b[1m0s\u001b[0m 3ms/step - loss: 0.0025 - mae: 0.0383 - val_loss: 0.0028 - val_mae: 0.0390\n",
            "Epoch 14/20\n",
            "\u001b[1m125/125\u001b[0m \u001b[32m━━━━━━━━━━━━━━━━━━━━\u001b[0m\u001b[37m\u001b[0m \u001b[1m1s\u001b[0m 3ms/step - loss: 0.0011 - mae: 0.0259 - val_loss: 9.3837e-04 - val_mae: 0.0228\n",
            "Epoch 15/20\n",
            "\u001b[1m125/125\u001b[0m \u001b[32m━━━━━━━━━━━━━━━━━━━━\u001b[0m\u001b[37m\u001b[0m \u001b[1m1s\u001b[0m 3ms/step - loss: 0.0029 - mae: 0.0401 - val_loss: 0.0026 - val_mae: 0.0420\n",
            "Epoch 16/20\n",
            "\u001b[1m125/125\u001b[0m \u001b[32m━━━━━━━━━━━━━━━━━━━━\u001b[0m\u001b[37m\u001b[0m \u001b[1m1s\u001b[0m 5ms/step - loss: 0.0016 - mae: 0.0304 - val_loss: 0.0035 - val_mae: 0.0467\n",
            "Epoch 17/20\n",
            "\u001b[1m125/125\u001b[0m \u001b[32m━━━━━━━━━━━━━━━━━━━━\u001b[0m\u001b[37m\u001b[0m \u001b[1m1s\u001b[0m 5ms/step - loss: 0.0038 - mae: 0.0472 - val_loss: 0.0034 - val_mae: 0.0408\n",
            "Epoch 18/20\n",
            "\u001b[1m125/125\u001b[0m \u001b[32m━━━━━━━━━━━━━━━━━━━━\u001b[0m\u001b[37m\u001b[0m \u001b[1m1s\u001b[0m 4ms/step - loss: 0.0020 - mae: 0.0332 - val_loss: 0.0045 - val_mae: 0.0541\n",
            "Epoch 19/20\n",
            "\u001b[1m125/125\u001b[0m \u001b[32m━━━━━━━━━━━━━━━━━━━━\u001b[0m\u001b[37m\u001b[0m \u001b[1m1s\u001b[0m 5ms/step - loss: 0.0108 - mae: 0.0756 - val_loss: 0.0081 - val_mae: 0.0694\n",
            "Epoch 20/20\n",
            "\u001b[1m125/125\u001b[0m \u001b[32m━━━━━━━━━━━━━━━━━━━━\u001b[0m\u001b[37m\u001b[0m \u001b[1m1s\u001b[0m 3ms/step - loss: 0.0077 - mae: 0.0669 - val_loss: 0.0022 - val_mae: 0.0378\n",
            "\u001b[1m63/63\u001b[0m \u001b[32m━━━━━━━━━━━━━━━━━━━━\u001b[0m\u001b[37m\u001b[0m \u001b[1m0s\u001b[0m 1ms/step - loss: 0.0022 - mae: 0.0378\n",
            "Test Loss: 0.00221685110591352, Test MAE: 0.03776824474334717\n"
          ]
        },
        {
          "output_type": "display_data",
          "data": {
            "text/plain": [
              "<Figure size 640x480 with 1 Axes>"
            ],
            "image/png": "[encoded data removed]"
          },
          "metadata": {}
        }
      ]
    },
    {
      "cell_type": "code",
      "source": [
        "from itertools import product\n",
        "\n",
        "hidden_layers = [64, 128]\n",
        "learning_rates = [0.01, 0.001]\n",
        "\n",
        "results = []\n",
        "\n",
        "for hl, lr in product(hidden_layers, learning_rates):\n",
        "    print(f\"Testing model with {hl} hidden neurons and {lr} learning rate\")\n",
        "\n",
        "    model = tf.keras.Sequential([\n",
        "        tf.keras.layers.Dense(hl, activation='relu', input_shape=(2,)),\n",
        "        tf.keras.layers.Dense(hl, activation='relu'),\n",
        "        tf.keras.layers.Dense(2)\n",
        "    ])\n",
        "\n",
        "    model.compile(optimizer=tf.keras.optimizers.Adam(learning_rate=lr), loss='mse', metrics=['mae'])\n",
        "    history = model.fit(X_train, Y_train, validation_data=(X_test, Y_test), epochs=20, batch_size=32, verbose=0)\n",
        "    loss, mae = model.evaluate(X_test, Y_test, verbose=0)\n",
        "    results.append((hl, lr, loss, mae))\n",
        "\n",
        "# Riporta i risultati migliori\n",
        "for res in results:\n",
        "    print(f\"Hidden Neurons: {res[0]}, Learning Rate: {res[1]}, Loss: {res[2]}, MAE: {res[3]}\")\n"
      ],
      "metadata": {
        "colab": {
          "base_uri": "https://localhost:8080/"
        },
        "id": "qkAIjYvvNK98",
        "outputId": "1788ef03-02ea-4d3d-84bd-9da0abd1a2a9"
      },
      "execution_count": 29,
      "outputs": [
        {
          "output_type": "stream",
          "name": "stdout",
          "text": [
            "Testing model with 64 hidden neurons and 0.01 learning rate\n",
            "Testing model with 64 hidden neurons and 0.001 learning rate\n",
            "Testing model with 128 hidden neurons and 0.01 learning rate\n",
            "Testing model with 128 hidden neurons and 0.001 learning rate\n",
            "Hidden Neurons: 64, Learning Rate: 0.01, Loss: 0.004027106799185276, MAE: 0.050010066479444504\n",
            "Hidden Neurons: 64, Learning Rate: 0.001, Loss: 0.0017180793220177293, MAE: 0.030746856704354286\n",
            "Hidden Neurons: 128, Learning Rate: 0.01, Loss: 0.0007265559979714453, MAE: 0.020902294665575027\n",
            "Hidden Neurons: 128, Learning Rate: 0.001, Loss: 0.0015914376126602292, MAE: 0.03198453038930893\n"
          ]
        }
      ]
    },
    {
      "cell_type": "markdown",
      "source": [
        "#Definizione dei jacobiani"
      ],
      "metadata": {
        "id": "ZcAFEV4udTou"
      }
    },
    {
      "cell_type": "code",
      "source": [
        "@tf.function\n",
        "def FK_Jacobian(model, x):\n",
        "    with tf.GradientTape(persistent=True) as tape:\n",
        "        tape.watch(x)\n",
        "        y = FK(model, x)  # Forward pass\n",
        "    return tape.jacobian(y, x)\n",
        "\n",
        "def FK(model, theta):\n",
        "    # Reshape to batch size 1\n",
        "    t = tf.reshape(theta, shape=(1, 2))\n",
        "    out = model(t)\n",
        "    # Reshape to 1d vector\n",
        "    out = tf.reshape(out, shape=(2,))\n",
        "    return out\n",
        "\n",
        "def analytical_J(theta, L1=1.0, L2=1.0):\n",
        "    j0, j1 = theta\n",
        "    J = np.array([\n",
        "        [-L1 * np.sin(j0) - L2 * np.sin(j0 + j1), -L2 * np.sin(j0 + j1)],\n",
        "        [L1 * np.cos(j0) + L2 * np.cos(j0 + j1),  L2 * np.cos(j0 + j1)]\n",
        "    ])\n",
        "    return J\n"
      ],
      "metadata": {
        "id": "nrAnGxbfNDaF"
      },
      "execution_count": 27,
      "outputs": []
    },
    {
      "cell_type": "code",
      "source": [
        "# Esempio di confronto\n",
        "theta_sample = X_test[0]  # Primo esempio di test\n",
        "jacobian_learned = FK_Jacobian(model, tf.convert_to_tensor([theta_sample], dtype=tf.float32))\n",
        "jacobian_analytical = analytical_J(theta_sample)\n",
        "\n",
        "print(\"Jacobiana appresa:\\n\", jacobian_learned.numpy())\n",
        "print(\"Jacobiana analitica:\\n\", jacobian_analytical)\n"
      ],
      "metadata": {
        "colab": {
          "base_uri": "https://localhost:8080/"
        },
        "id": "-5foge8iNI3Y",
        "outputId": "66a364e8-24ae-48c8-d0ba-95a8e4808bd3"
      },
      "execution_count": 28,
      "outputs": [
        {
          "output_type": "stream",
          "name": "stdout",
          "text": [
            "Jacobiana appresa:\n",
            " [[[ 1.2406592  2.8094797]]\n",
            "\n",
            " [[-1.2697632  0.1887255]]]\n",
            "Jacobiana analitica:\n",
            " [[-1.67888275 -0.79993196]\n",
            " [-0.12317826 -0.60009072]]\n"
          ]
        }
      ]
    }
  ]
}
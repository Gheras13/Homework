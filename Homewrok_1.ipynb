{
  "nbformat": 4,
  "nbformat_minor": 0,
  "metadata": {
    "colab": {
      "provenance": [],
      "authorship_tag": "ABX9TyPzLGjzqRdA+smXpkISUpe4",
      "include_colab_link": true
    },
    "kernelspec": {
      "name": "python3",
      "display_name": "Python 3"
    },
    "language_info": {
      "name": "python"
    }
  },
  "cells": [
    {
      "cell_type": "markdown",
      "metadata": {
        "id": "view-in-github",
        "colab_type": "text"
      },
      "source": [
        "<a href=\"https://colab.research.google.com/github/Gheras13/Homework/blob/main/Homewrok_1.ipynb\" target=\"_parent\"><img src=\"https://colab.research.google.com/assets/colab-badge.svg\" alt=\"Open In Colab\"/></a>"
      ]
    },
    {
      "cell_type": "markdown",
      "source": [
        "#MACHINE LEARNING HOMEWORK 1\n",
        "\n",
        "#DIRECT KINEMATICS OF ROBOT MANIPLUATOR"
      ],
      "metadata": {
        "id": "7u7FEl8kWjQW"
      }
    },
    {
      "cell_type": "code",
      "execution_count": 19,
      "metadata": {
        "id": "GMC0IvrZxBSH"
      },
      "outputs": [],
      "source": [
        "import numpy as np\n",
        "import tensorflow as tf\n",
        "import pandas as pd\n",
        "from sklearn.model_selection import train_test_split\n",
        "from sklearn.preprocessing import StandardScaler\n",
        "import matplotlib.pyplot as plt\n"
      ]
    },
    {
      "cell_type": "code",
      "source": [
        "from google.colab import drive\n",
        "drive.mount('/content/drive')\n"
      ],
      "metadata": {
        "colab": {
          "base_uri": "https://localhost:8080/"
        },
        "id": "n3BjXK3Q2vtj",
        "outputId": "74bcffb1-d243-434d-8f76-b77cf37dc1ce"
      },
      "execution_count": 20,
      "outputs": [
        {
          "output_type": "stream",
          "name": "stdout",
          "text": [
            "Drive already mounted at /content/drive; to attempt to forcibly remount, call drive.mount(\"/content/drive\", force_remount=True).\n"
          ]
        }
      ]
    },
    {
      "cell_type": "markdown",
      "source": [
        "# Generate Data"
      ],
      "metadata": {
        "id": "WTdw6AwT2Ydx"
      }
    },
    {
      "cell_type": "code",
      "source": [
        "\n",
        "\n",
        "# Percorso del file CSV\n",
        "file_path = '/content/drive/My Drive/File_csv/Copia di r2_20_100k.csv'\n",
        "# Carica il dataset\n",
        "dataset = pd.read_csv(file_path, sep=';', header=0)\n",
        "\n",
        "# Rimuovi eventuali spazi dai nomi delle colonne\n",
        "dataset.columns = dataset.columns.str.strip()\n",
        "#prendo i primi 1000 samples\n",
        "df = dataset.iloc[:100000]\n",
        "# Stampa i nomi delle colonne disponibili\n",
        "print(\"Colonne disponibili nel dataset:\", df.columns.tolist())\n",
        "\n",
        "# Estrai le feature (j0, j1) e i target (ee_x, ee_y)\n",
        "X = df[['j0', 'j1']].values  # Angoli articolari\n",
        "Y = df[['ee_x', 'ee_y']].values  # Posizioni finali (end-effector)\n",
        "\n",
        "# Verifica i dati caricati\n",
        "print(\"Esempio di X (features):\", X[:5])  # Prime 5 righe delle feature\n",
        "print(\"Esempio di Y (target):\", Y[:5])  # Prime 5 righe del target\n"
      ],
      "metadata": {
        "colab": {
          "base_uri": "https://localhost:8080/"
        },
        "id": "yqA2qADU2Tfg",
        "outputId": "38204fab-6994-43e4-82c5-7c7766a89504"
      },
      "execution_count": 21,
      "outputs": [
        {
          "output_type": "stream",
          "name": "stdout",
          "text": [
            "Colonne disponibili nel dataset: ['j0', 'j1', 'cos(j0)', 'cos(j1)', 'sin(j0)', 'sin(j1)', 'ee_x', 'ee_y', 'ee_qw', 'ee_qz']\n",
            "Esempio di X (features): [[-0.044 -0.008]\n",
            " [-0.062 -0.011]\n",
            " [-0.126 -0.015]\n",
            " [-0.226 -0.051]\n",
            " [-0.364 -0.082]]\n",
            "Esempio di Y (target): [[ 0.21  -0.01 ]\n",
            " [ 0.21  -0.014]\n",
            " [ 0.208 -0.028]\n",
            " [ 0.203 -0.053]\n",
            " [ 0.193 -0.083]]\n"
          ]
        }
      ]
    },
    {
      "cell_type": "code",
      "source": [
        "# Dividi i dati in training e testing\n",
        "X_train, X_test, Y_train, Y_test = train_test_split(X, Y, test_size=0.2, random_state=42)\n",
        "\"\"\"\n",
        "# (Opzionale) Standardizza gli input per migliorare la stabilità numerica\n",
        "scaler_X = StandardScaler()\n",
        "scaler_Y = StandardScaler()\n",
        "\n",
        "X_train = scaler_X.fit_transform(X_train)\n",
        "X_test = scaler_X.transform(X_test)\n",
        "\n",
        "Y_train = scaler_Y.fit_transform(Y_train)\n",
        "Y_test = scaler_Y.transform(Y_test)\n",
        "\"\"\""
      ],
      "metadata": {
        "id": "Ez9Y2iKpMJqJ",
        "colab": {
          "base_uri": "https://localhost:8080/",
          "height": 54
        },
        "outputId": "997c4a8f-5ee0-4b75-8392-d6b3fba81f70"
      },
      "execution_count": 22,
      "outputs": [
        {
          "output_type": "execute_result",
          "data": {
            "text/plain": [
              "'\\n# (Opzionale) Standardizza gli input per migliorare la stabilità numerica\\nscaler_X = StandardScaler()\\nscaler_Y = StandardScaler()\\n\\nX_train = scaler_X.fit_transform(X_train)\\nX_test = scaler_X.transform(X_test)\\n\\nY_train = scaler_Y.fit_transform(Y_train)\\nY_test = scaler_Y.transform(Y_test)\\n'"
            ],
            "application/vnd.google.colaboratory.intrinsic+json": {
              "type": "string"
            }
          },
          "metadata": {},
          "execution_count": 22
        }
      ]
    },
    {
      "cell_type": "markdown",
      "source": [
        "# Test del modello"
      ],
      "metadata": {
        "id": "HfIHF2z-WH8H"
      }
    },
    {
      "cell_type": "markdown",
      "source": [
        "Rete neurale FeedForward con tensorflow\n",
        "\n",
        "Definisce una rete neurale feedforward in cui i layer sono collegati uno dopo l'altro (architettura sequenziale).\n",
        "Ogni layer prende in input l'output del layer precedente.\n",
        "\n",
        "Definizione di una rete neurale feedforward per la cinematica diretta.\n",
        " Struttura:\n",
        " - Input: 2 caratteristiche (angoli articolari).\n",
        " - 3 layer nascosti con attivazione ReLU.\n",
        " - Output: 2 caratteristiche (posizione terminale x, y).\n"
      ],
      "metadata": {
        "id": "CLwmCkjQWZ_Y"
      }
    },
    {
      "cell_type": "code",
      "source": [
        "def build_model(hidden_neurons, learning_rate):\n",
        "    \"\"\"\n",
        "    Crea un modello di rete neurale con i parametri specificati.\n",
        "\n",
        "    Args:\n",
        "        hidden_neurons (int): Numero di neuroni negli strati nascosti.\n",
        "        learning_rate (float): Tasso di apprendimento per l'ottimizzatore.\n",
        "\n",
        "    Returns:\n",
        "        tf.keras.Sequential: Modello compilato.\n",
        "    \"\"\"\n",
        "    model = tf.keras.Sequential([\n",
        "        tf.keras.layers.Dense(hidden_neurons, activation='relu', input_shape=(2,)),\n",
        "        tf.keras.layers.Dense(hidden_neurons, activation='relu'),\n",
        "        tf.keras.layers.Dense(2)\n",
        "    ])\n",
        "    model.compile(\n",
        "        optimizer=tf.keras.optimizers.Adam(learning_rate=learning_rate),\n",
        "        loss='mse',\n",
        "        metrics=['mae']\n",
        "    )\n",
        "    return model\n"
      ],
      "metadata": {
        "id": "HBwcCHbeit46"
      },
      "execution_count": 23,
      "outputs": []
    },
    {
      "cell_type": "markdown",
      "source": [
        " Configurazione del modello per l'addestramento:\n",
        " - Ottimizzatore: Adam (learning_rate=0.01).\n",
        " - Funzione di perdita: Mean Squared Error (MSE).\n",
        " - Metriche: Mean Absolute Error (MAE).\n"
      ],
      "metadata": {
        "id": "HAczh-_rX-yS"
      }
    },
    {
      "cell_type": "markdown",
      "source": [
        "# Valutazione finale del modello sul set di test.\n",
        "# Metriche:\n",
        "# - `loss`: Errore quadratico medio (MSE), risulterà essere la nostra LOSS FUNCTION.\n",
        "# - `mae`: Errore assoluto medio.\n",
        "# Come SOLVER è stato scelto ADAM\n"
      ],
      "metadata": {
        "id": "__wD-_mYYI0H"
      }
    },
    {
      "cell_type": "code",
      "source": [
        "from itertools import product\n",
        "\n",
        "hidden_layers = [64, 128]\n",
        "learning_rates = [0.01, 0.001]\n",
        "\n",
        "results = []\n",
        "\n",
        "for hl, lr in product(hidden_layers, learning_rates):\n",
        "    print(f\"Testing model with {hl} hidden neurons and {lr} learning rate\")\n",
        "\n",
        "    model = build_model(hidden_neurons=hl, learning_rate=lr)\n",
        "    history = model.fit(X_train, Y_train, validation_data=(X_test, Y_test), epochs=20, batch_size=32, verbose=0)\n",
        "    loss, mae = model.evaluate(X_test, Y_test, verbose=0)\n",
        "    results.append((hl, lr, loss, mae))\n",
        "\n",
        "# Riporta i risultati migliori\n",
        "for res in results:\n",
        "    print(f\"Hidden Neurons: {res[0]}, Learning Rate: {res[1]}, Loss: {res[2]}, MAE: {res[3]}\")\n",
        "# Ordina i risultati per loss\n",
        "sorted_results = sorted(results, key=lambda x: x[2])  # Ordina per perdita\n",
        "best_config = sorted_results[0]\n",
        "print(f\"Miglior configurazione trovata: Neuroni Nascosti={best_config[0]}, Learning Rate={best_config[1]}\")\n",
        "# Usa i parametri ottimali\n",
        "optimal_hidden_neurons = best_config[0]\n",
        "optimal_learning_rate = best_config[1]\n",
        "\n",
        "# Costruisci e addestra il modello finale\n",
        "model = build_model(hidden_neurons=optimal_hidden_neurons, learning_rate=optimal_learning_rate)\n",
        "history = model.fit(\n",
        "    X_train, Y_train,\n",
        "    validation_data=(X_test, Y_test),\n",
        "    epochs=20,\n",
        "    batch_size=64,\n",
        "    verbose=1\n",
        ")\n",
        "\n",
        "# Valuta il modello finale\n",
        "loss, mae = model.evaluate(X_test, Y_test)\n",
        "print(f\"Perdita sul Test Set: {loss}, MAE sul Test Set: {mae}\")\n",
        "\n",
        "# Traccia l'andamento della perdita\n",
        "plt.plot(history.history['loss'], label='Training Loss')\n",
        "plt.plot(history.history['val_loss'], label='Validation Loss')\n",
        "plt.legend()\n",
        "plt.show()\n",
        "\n",
        "\n"
      ],
      "metadata": {
        "colab": {
          "base_uri": "https://localhost:8080/",
          "height": 1000
        },
        "id": "qkAIjYvvNK98",
        "outputId": "71ce2c60-237e-47e1-f8bb-672de2b023fb"
      },
      "execution_count": 24,
      "outputs": [
        {
          "output_type": "stream",
          "name": "stdout",
          "text": [
            "Testing model with 64 hidden neurons and 0.01 learning rate\n"
          ]
        },
        {
          "output_type": "stream",
          "name": "stderr",
          "text": [
            "/usr/local/lib/python3.10/dist-packages/keras/src/layers/core/dense.py:87: UserWarning: Do not pass an `input_shape`/`input_dim` argument to a layer. When using Sequential models, prefer using an `Input(shape)` object as the first layer in the model instead.\n",
            "  super().__init__(activity_regularizer=activity_regularizer, **kwargs)\n"
          ]
        },
        {
          "output_type": "stream",
          "name": "stdout",
          "text": [
            "Testing model with 64 hidden neurons and 0.001 learning rate\n",
            "Testing model with 128 hidden neurons and 0.01 learning rate\n",
            "Testing model with 128 hidden neurons and 0.001 learning rate\n",
            "Hidden Neurons: 64, Learning Rate: 0.01, Loss: 2.036261503235437e-05, MAE: 0.003655940294265747\n",
            "Hidden Neurons: 64, Learning Rate: 0.001, Loss: 4.81106280858512e-06, MAE: 0.0016565719852223992\n",
            "Hidden Neurons: 128, Learning Rate: 0.01, Loss: 2.8638842195505276e-05, MAE: 0.004267674405127764\n",
            "Hidden Neurons: 128, Learning Rate: 0.001, Loss: 3.454691977822222e-06, MAE: 0.0014462315011769533\n",
            "Miglior configurazione trovata: Neuroni Nascosti=128, Learning Rate=0.001\n",
            "Epoch 1/20\n",
            "\u001b[1m1250/1250\u001b[0m \u001b[32m━━━━━━━━━━━━━━━━━━━━\u001b[0m\u001b[37m\u001b[0m \u001b[1m6s\u001b[0m 4ms/step - loss: 0.0027 - mae: 0.0301 - val_loss: 5.6575e-05 - val_mae: 0.0050\n",
            "Epoch 2/20\n",
            "\u001b[1m1250/1250\u001b[0m \u001b[32m━━━━━━━━━━━━━━━━━━━━\u001b[0m\u001b[37m\u001b[0m \u001b[1m3s\u001b[0m 3ms/step - loss: 6.1364e-05 - mae: 0.0055 - val_loss: 5.8726e-05 - val_mae: 0.0059\n",
            "Epoch 3/20\n",
            "\u001b[1m1250/1250\u001b[0m \u001b[32m━━━━━━━━━━━━━━━━━━━━\u001b[0m\u001b[37m\u001b[0m \u001b[1m5s\u001b[0m 3ms/step - loss: 3.6531e-05 - mae: 0.0045 - val_loss: 1.1737e-05 - val_mae: 0.0025\n",
            "Epoch 4/20\n",
            "\u001b[1m1250/1250\u001b[0m \u001b[32m━━━━━━━━━━━━━━━━━━━━\u001b[0m\u001b[37m\u001b[0m \u001b[1m6s\u001b[0m 5ms/step - loss: 2.6880e-05 - mae: 0.0038 - val_loss: 1.8342e-05 - val_mae: 0.0035\n",
            "Epoch 5/20\n",
            "\u001b[1m1250/1250\u001b[0m \u001b[32m━━━━━━━━━━━━━━━━━━━━\u001b[0m\u001b[37m\u001b[0m \u001b[1m8s\u001b[0m 3ms/step - loss: 2.0953e-05 - mae: 0.0034 - val_loss: 9.6888e-06 - val_mae: 0.0025\n",
            "Epoch 6/20\n",
            "\u001b[1m1250/1250\u001b[0m \u001b[32m━━━━━━━━━━━━━━━━━━━━\u001b[0m\u001b[37m\u001b[0m \u001b[1m6s\u001b[0m 4ms/step - loss: 2.8366e-05 - mae: 0.0037 - val_loss: 1.2283e-05 - val_mae: 0.0026\n",
            "Epoch 7/20\n",
            "\u001b[1m1250/1250\u001b[0m \u001b[32m━━━━━━━━━━━━━━━━━━━━\u001b[0m\u001b[37m\u001b[0m \u001b[1m5s\u001b[0m 3ms/step - loss: 1.2007e-05 - mae: 0.0026 - val_loss: 2.0539e-05 - val_mae: 0.0036\n",
            "Epoch 8/20\n",
            "\u001b[1m1250/1250\u001b[0m \u001b[32m━━━━━━━━━━━━━━━━━━━━\u001b[0m\u001b[37m\u001b[0m \u001b[1m4s\u001b[0m 3ms/step - loss: 2.0152e-05 - mae: 0.0032 - val_loss: 5.4482e-06 - val_mae: 0.0018\n",
            "Epoch 9/20\n",
            "\u001b[1m1250/1250\u001b[0m \u001b[32m━━━━━━━━━━━━━━━━━━━━\u001b[0m\u001b[37m\u001b[0m \u001b[1m6s\u001b[0m 3ms/step - loss: 1.7319e-05 - mae: 0.0029 - val_loss: 2.7843e-05 - val_mae: 0.0040\n",
            "Epoch 10/20\n",
            "\u001b[1m1250/1250\u001b[0m \u001b[32m━━━━━━━━━━━━━━━━━━━━\u001b[0m\u001b[37m\u001b[0m \u001b[1m5s\u001b[0m 3ms/step - loss: 1.1569e-05 - mae: 0.0025 - val_loss: 2.5533e-05 - val_mae: 0.0040\n",
            "Epoch 11/20\n",
            "\u001b[1m1250/1250\u001b[0m \u001b[32m━━━━━━━━━━━━━━━━━━━━\u001b[0m\u001b[37m\u001b[0m \u001b[1m5s\u001b[0m 3ms/step - loss: 9.0965e-06 - mae: 0.0023 - val_loss: 3.4090e-06 - val_mae: 0.0015\n",
            "Epoch 12/20\n",
            "\u001b[1m1250/1250\u001b[0m \u001b[32m━━━━━━━━━━━━━━━━━━━━\u001b[0m\u001b[37m\u001b[0m \u001b[1m3s\u001b[0m 3ms/step - loss: 8.4968e-06 - mae: 0.0022 - val_loss: 9.2206e-06 - val_mae: 0.0025\n",
            "Epoch 13/20\n",
            "\u001b[1m1250/1250\u001b[0m \u001b[32m━━━━━━━━━━━━━━━━━━━━\u001b[0m\u001b[37m\u001b[0m \u001b[1m5s\u001b[0m 3ms/step - loss: 5.9908e-06 - mae: 0.0019 - val_loss: 2.8127e-06 - val_mae: 0.0013\n",
            "Epoch 14/20\n",
            "\u001b[1m1250/1250\u001b[0m \u001b[32m━━━━━━━━━━━━━━━━━━━━\u001b[0m\u001b[37m\u001b[0m \u001b[1m3s\u001b[0m 2ms/step - loss: 5.4053e-06 - mae: 0.0018 - val_loss: 1.3412e-05 - val_mae: 0.0027\n",
            "Epoch 15/20\n",
            "\u001b[1m1250/1250\u001b[0m \u001b[32m━━━━━━━━━━━━━━━━━━━━\u001b[0m\u001b[37m\u001b[0m \u001b[1m3s\u001b[0m 2ms/step - loss: 6.4751e-06 - mae: 0.0019 - val_loss: 4.4156e-06 - val_mae: 0.0016\n",
            "Epoch 16/20\n",
            "\u001b[1m1250/1250\u001b[0m \u001b[32m━━━━━━━━━━━━━━━━━━━━\u001b[0m\u001b[37m\u001b[0m \u001b[1m4s\u001b[0m 3ms/step - loss: 5.2012e-06 - mae: 0.0017 - val_loss: 2.9587e-06 - val_mae: 0.0014\n",
            "Epoch 17/20\n",
            "\u001b[1m1250/1250\u001b[0m \u001b[32m━━━━━━━━━━━━━━━━━━━━\u001b[0m\u001b[37m\u001b[0m \u001b[1m4s\u001b[0m 3ms/step - loss: 4.5313e-06 - mae: 0.0015 - val_loss: 2.0137e-06 - val_mae: 0.0011\n",
            "Epoch 18/20\n",
            "\u001b[1m1250/1250\u001b[0m \u001b[32m━━━━━━━━━━━━━━━━━━━━\u001b[0m\u001b[37m\u001b[0m \u001b[1m3s\u001b[0m 3ms/step - loss: 3.3859e-06 - mae: 0.0014 - val_loss: 5.5198e-06 - val_mae: 0.0019\n",
            "Epoch 19/20\n",
            "\u001b[1m1250/1250\u001b[0m \u001b[32m━━━━━━━━━━━━━━━━━━━━\u001b[0m\u001b[37m\u001b[0m \u001b[1m4s\u001b[0m 3ms/step - loss: 4.2373e-06 - mae: 0.0016 - val_loss: 1.8124e-06 - val_mae: 0.0010\n",
            "Epoch 20/20\n",
            "\u001b[1m1250/1250\u001b[0m \u001b[32m━━━━━━━━━━━━━━━━━━━━\u001b[0m\u001b[37m\u001b[0m \u001b[1m5s\u001b[0m 4ms/step - loss: 4.6516e-06 - mae: 0.0016 - val_loss: 2.2153e-06 - val_mae: 0.0012\n",
            "\u001b[1m625/625\u001b[0m \u001b[32m━━━━━━━━━━━━━━━━━━━━\u001b[0m\u001b[37m\u001b[0m \u001b[1m1s\u001b[0m 2ms/step - loss: 2.2166e-06 - mae: 0.0012\n",
            "Perdita sul Test Set: 2.2152619294502074e-06, MAE sul Test Set: 0.0011975920060649514\n"
          ]
        },
        {
          "output_type": "display_data",
          "data": {
            "text/plain": [
              "<Figure size 640x480 with 1 Axes>"
            ],
            "image/png": "[encoded data removed]"
          },
          "metadata": {}
        }
      ]
    },
    {
      "cell_type": "markdown",
      "source": [
        "#Definizione dei jacobiani"
      ],
      "metadata": {
        "id": "ZcAFEV4udTou"
      }
    },
    {
      "cell_type": "code",
      "source": [
        "@tf.function\n",
        "def FK_Jacobian(model, x):\n",
        "    with tf.GradientTape(persistent=True) as tape:\n",
        "        tape.watch(x)\n",
        "        y = FK(model, x)  # Forward pass\n",
        "    return tape.jacobian(y, x)\n",
        "\n",
        "def FK(model, theta):\n",
        "    # Reshape to batch size 1\n",
        "    t = tf.reshape(theta, shape=(1, 2))\n",
        "    out = model(t)\n",
        "    # Reshape to 1d vector\n",
        "    out = tf.reshape(out, shape=(2,))\n",
        "    return out\n",
        "\n",
        "def analytical_J(theta, L1=0.1, L2=0.1):\n",
        "    j0, j1 = theta\n",
        "    J = np.array([\n",
        "        [-L1 * np.sin(j0) - L2 * np.sin(j0 + j1), -L2 * np.sin(j0 + j1)],\n",
        "        [L1 * np.cos(j0) + L2 * np.cos(j0 + j1),  L2 * np.cos(j0 + j1)]\n",
        "    ])\n",
        "    return J\n"
      ],
      "metadata": {
        "id": "nrAnGxbfNDaF"
      },
      "execution_count": 25,
      "outputs": []
    },
    {
      "cell_type": "code",
      "source": [
        "# Esempio di confronto\n",
        "theta_sample = X_test[0]  # Primo esempio di test\n",
        "jacobian_learned = FK_Jacobian(model, tf.convert_to_tensor([theta_sample], dtype=tf.float32))\n",
        "jacobian_analytical = analytical_J(theta_sample)\n",
        "import numpy as np\n",
        "\n",
        "# Supponiamo che jacobian_learned e jacobian_analytical siano già calcolate\n",
        "# Flatten delle matrici\n",
        "jacobian_learned_flat = jacobian_learned.numpy().flatten()\n",
        "jacobian_analytical_flat = jacobian_analytical.flatten()\n",
        "\n",
        "# Calcolo del MSE\n",
        "mse = np.mean((jacobian_learned_flat - jacobian_analytical_flat) ** 2)\n",
        "\n",
        "# Output\n",
        "print(\"Jacobiana appresa (flatten):\\n\", jacobian_learned_flat)\n",
        "print()\n",
        "print(\"Jacobiana analitica (flatten):\\n\", jacobian_analytical_flat)\n",
        "print()\n",
        "print(f\"Mean Squared Error (MSE): {mse}\")\n",
        "\n",
        "print(\"Jacobiana appresa:\\n\", jacobian_learned.numpy())\n",
        "print();\n",
        "print(\"Jacobiana analitica:\\n\", jacobian_analytical)\n",
        "\n"
      ],
      "metadata": {
        "colab": {
          "base_uri": "https://localhost:8080/"
        },
        "id": "-5foge8iNI3Y",
        "outputId": "65e6c96f-fe15-4e87-b2c8-e07c3021ccfa"
      },
      "execution_count": 26,
      "outputs": [
        {
          "output_type": "stream",
          "name": "stdout",
          "text": [
            "Jacobiana appresa (flatten):\n",
            " [-0.08696222 -0.08015794 -0.04095121  0.05526173]\n",
            "\n",
            "Jacobiana analitica (flatten):\n",
            " [-0.08165508 -0.08489525 -0.04710058  0.05284691]\n",
            "\n",
            "Mean Squared Error (MSE): 2.3563473226643033e-05\n",
            "Jacobiana appresa:\n",
            " [[[-0.08696222 -0.08015794]]\n",
            "\n",
            " [[-0.04095121  0.05526173]]]\n",
            "\n",
            "Jacobiana analitica:\n",
            " [[-0.08165508 -0.08489525]\n",
            " [-0.04710058  0.05284691]]\n"
          ]
        }
      ]
    }
  ]
}
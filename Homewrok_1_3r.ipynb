{
  "cells": [
    {
      "cell_type": "markdown",
      "metadata": {
        "id": "view-in-github",
        "colab_type": "text"
      },
      "source": [
        "<a href=\"https://colab.research.google.com/github/Gheras13/Homework/blob/main/Homewrok_1_3r.ipynb\" target=\"_parent\"><img src=\"https://colab.research.google.com/assets/colab-badge.svg\" alt=\"Open In Colab\"/></a>"
      ]
    },
    {
      "cell_type": "markdown",
      "metadata": {
        "id": "7u7FEl8kWjQW"
      },
      "source": [
        "#MACHINE LEARNING HOMEWORK 1\n",
        "\n",
        "#DIRECT KINEMATICS OF ROBOT MANIPLUATOR"
      ]
    },
    {
      "cell_type": "code",
      "execution_count": null,
      "metadata": {
        "id": "GMC0IvrZxBSH"
      },
      "outputs": [],
      "source": [
        "import numpy as np\n",
        "import tensorflow as tf\n",
        "import pandas as pd\n",
        "from sklearn.model_selection import train_test_split\n",
        "from sklearn.preprocessing import StandardScaler\n",
        "import matplotlib.pyplot as plt\n"
      ]
    },
    {
      "cell_type": "code",
      "execution_count": null,
      "metadata": {
        "colab": {
          "base_uri": "https://localhost:8080/"
        },
        "id": "n3BjXK3Q2vtj",
        "outputId": "f2a11b8b-5d45-4ed2-95ed-13e46a6d5b3a"
      },
      "outputs": [
        {
          "name": "stdout",
          "output_type": "stream",
          "text": [
            "Drive already mounted at /content/drive; to attempt to forcibly remount, call drive.mount(\"/content/drive\", force_remount=True).\n"
          ]
        }
      ],
      "source": [
        "from google.colab import drive\n",
        "drive.mount('/content/drive')\n"
      ]
    },
    {
      "cell_type": "markdown",
      "metadata": {
        "id": "WTdw6AwT2Ydx"
      },
      "source": [
        "# Generate Data"
      ]
    },
    {
      "cell_type": "code",
      "execution_count": null,
      "metadata": {
        "colab": {
          "base_uri": "https://localhost:8080/"
        },
        "id": "yqA2qADU2Tfg",
        "outputId": "aa9bc2db-86af-427b-ad53-1aeaf05ae427"
      },
      "outputs": [
        {
          "name": "stdout",
          "output_type": "stream",
          "text": [
            "Colonne disponibili nel dataset: ['j0', 'j1', 'j2', 'cos(j0)', 'cos(j1)', 'cos(j2)', 'sin(j0)', 'sin(j1)', 'sin(j2)', 'ee_x', 'ee_y', 'ee_qw', 'ee_qz']\n",
            "Esempio di X (features): [[-0.044 -0.008 -0.076]\n",
            " [-0.061 -0.011 -0.106]\n",
            " [-0.094 -0.024 -0.199]\n",
            " [-0.156 -0.006 -0.309]\n",
            " [-0.252  0.062 -0.42 ]]\n",
            "Esempio di Y (target): [[ 0.309 -0.024]\n",
            " [ 0.308 -0.033]\n",
            " [ 0.303 -0.055]\n",
            " [ 0.296 -0.081]\n",
            " [ 0.285 -0.107]]\n"
          ]
        }
      ],
      "source": [
        "\n",
        "\n",
        "# Percorso del file CSV\n",
        "file_path = '/content/drive/My Drive/File_csv/Copia di r3_20_100k.csv'\n",
        "# Carica il dataset\n",
        "dataset = pd.read_csv(file_path, sep=';', header=0)\n",
        "\n",
        "# Rimuovi eventuali spazi dai nomi delle colonne\n",
        "dataset.columns = dataset.columns.str.strip()\n",
        "#prendo i primi 1000 samples\n",
        "df = dataset.iloc[:100000]\n",
        "# Stampa i nomi delle colonne disponibili\n",
        "print(\"Colonne disponibili nel dataset:\", df.columns.tolist())\n",
        "\n",
        "# Estrai le feature (j0, j1) e i target (ee_x, ee_y)\n",
        "X = df[['j0', 'j1','j2']].values  # Angoli articolari\n",
        "Y = df[['ee_x', 'ee_y']].values  # Posizioni finali (end-effector)\n",
        "\n",
        "# Verifica i dati caricati\n",
        "print(\"Esempio di X (features):\", X[:5])  # Prime 5 righe delle feature\n",
        "print(\"Esempio di Y (target):\", Y[:5])  # Prime 5 righe del target\n"
      ]
    },
    {
      "cell_type": "code",
      "execution_count": null,
      "metadata": {
        "colab": {
          "base_uri": "https://localhost:8080/",
          "height": 54
        },
        "id": "Ez9Y2iKpMJqJ",
        "outputId": "41df9e2a-374f-42d6-dfe2-26b1f9e926fc"
      },
      "outputs": [
        {
          "data": {
            "application/vnd.google.colaboratory.intrinsic+json": {
              "type": "string"
            },
            "text/plain": [
              "'\\n# (Opzionale) Standardizza gli input per migliorare la stabilità numerica\\nscaler_X = StandardScaler()\\nscaler_Y = StandardScaler()\\n\\nX_train = scaler_X.fit_transform(X_train)\\nX_test = scaler_X.transform(X_test)\\n\\nY_train = scaler_Y.fit_transform(Y_train)\\nY_test = scaler_Y.transform(Y_test)\\n'"
            ]
          },
          "execution_count": 14,
          "metadata": {},
          "output_type": "execute_result"
        }
      ],
      "source": [
        "# Dividi i dati in training e testing\n",
        "X_train, X_test, Y_train, Y_test = train_test_split(X, Y, test_size=0.2, random_state=42)\n",
        "\"\"\"\n",
        "# (Opzionale) Standardizza gli input per migliorare la stabilità numerica\n",
        "scaler_X = StandardScaler()\n",
        "scaler_Y = StandardScaler()\n",
        "\n",
        "X_train = scaler_X.fit_transform(X_train)\n",
        "X_test = scaler_X.transform(X_test)\n",
        "\n",
        "Y_train = scaler_Y.fit_transform(Y_train)\n",
        "Y_test = scaler_Y.transform(Y_test)\n",
        "\"\"\""
      ]
    },
    {
      "cell_type": "markdown",
      "metadata": {
        "id": "HfIHF2z-WH8H"
      },
      "source": [
        "# Test del modello"
      ]
    },
    {
      "cell_type": "markdown",
      "metadata": {
        "id": "CLwmCkjQWZ_Y"
      },
      "source": [
        "Rete neurale FeedForward con tensorflow\n",
        "\n",
        "Definisce una rete neurale feedforward in cui i layer sono collegati uno dopo l'altro (architettura sequenziale).\n",
        "Ogni layer prende in input l'output del layer precedente.\n",
        "\n",
        "Definizione di una rete neurale feedforward per la cinematica diretta.\n",
        " Struttura:\n",
        " - Input: 2 caratteristiche (angoli articolari).\n",
        " - 3 layer nascosti con attivazione ReLU.\n",
        " - Output: 2 caratteristiche (posizione terminale x, y).\n"
      ]
    },
    {
      "cell_type": "code",
      "execution_count": null,
      "metadata": {
        "id": "HBwcCHbeit46"
      },
      "outputs": [],
      "source": [
        "def build_model(hidden_neurons, learning_rate):\n",
        "    \"\"\"\n",
        "    Crea un modello di rete neurale con i parametri specificati.\n",
        "\n",
        "    Args:\n",
        "        hidden_neurons (int): Numero di neuroni negli strati nascosti.\n",
        "        learning_rate (float): Tasso di apprendimento per l'ottimizzatore.\n",
        "\n",
        "    Returns:\n",
        "        tf.keras.Sequential: Modello compilato.\n",
        "    \"\"\"\n",
        "    model = tf.keras.Sequential([\n",
        "        tf.keras.layers.Dense(hidden_neurons, activation='relu', input_shape=(3,)),\n",
        "        tf.keras.layers.Dense(hidden_neurons, activation='relu'),\n",
        "        tf.keras.layers.Dense(2)\n",
        "    ])\n",
        "    model.compile(\n",
        "        optimizer=tf.keras.optimizers.Adam(learning_rate=learning_rate),\n",
        "        loss='mse',\n",
        "        metrics=['mae']\n",
        "    )\n",
        "    return model\n"
      ]
    },
    {
      "cell_type": "markdown",
      "metadata": {
        "id": "HAczh-_rX-yS"
      },
      "source": [
        " Configurazione del modello per l'addestramento:\n",
        " - Ottimizzatore: Adam (learning_rate=0.01).\n",
        " - Funzione di perdita: Mean Squared Error (MSE).\n",
        " - Metriche: Mean Absolute Error (MAE).\n"
      ]
    },
    {
      "cell_type": "markdown",
      "metadata": {
        "id": "__wD-_mYYI0H"
      },
      "source": [
        "# Valutazione finale del modello sul set di test.\n",
        "# Metriche:\n",
        "# - `loss`: Errore quadratico medio (MSE), risulterà essere la nostra LOSS FUNCTION.\n",
        "# - `mae`: Errore assoluto medio.\n",
        "# Come SOLVER è stato scelto ADAM\n"
      ]
    },
    {
      "cell_type": "code",
      "execution_count": null,
      "metadata": {
        "colab": {
          "background_save": true,
          "base_uri": "https://localhost:8080/"
        },
        "id": "qkAIjYvvNK98",
        "outputId": "79e171d3-dbc9-43b1-fc86-71941cd099be"
      },
      "outputs": [
        {
          "name": "stdout",
          "output_type": "stream",
          "text": [
            "Testing model with 64 hidden neurons and 0.01 learning rate\n"
          ]
        },
        {
          "name": "stderr",
          "output_type": "stream",
          "text": [
            "/usr/local/lib/python3.10/dist-packages/keras/src/layers/core/dense.py:87: UserWarning: Do not pass an `input_shape`/`input_dim` argument to a layer. When using Sequential models, prefer using an `Input(shape)` object as the first layer in the model instead.\n",
            "  super().__init__(activity_regularizer=activity_regularizer, **kwargs)\n"
          ]
        },
        {
          "name": "stdout",
          "output_type": "stream",
          "text": [
            "Testing model with 64 hidden neurons and 0.001 learning rate\n",
            "Testing model with 128 hidden neurons and 0.01 learning rate\n",
            "Testing model with 128 hidden neurons and 0.001 learning rate\n",
            "Hidden Neurons: 64, Learning Rate: 0.01, Loss: 0.00010597235086606815, MAE: 0.008003059774637222\n",
            "Hidden Neurons: 64, Learning Rate: 0.001, Loss: 1.675719795457553e-05, MAE: 0.0031948706600815058\n",
            "Hidden Neurons: 128, Learning Rate: 0.01, Loss: 8.886168507160619e-05, MAE: 0.007585615385323763\n",
            "Hidden Neurons: 128, Learning Rate: 0.001, Loss: 6.196365120558767e-06, MAE: 0.0019381387392058969\n",
            "Miglior configurazione trovata: Neuroni Nascosti=128, Learning Rate=0.001\n",
            "Epoch 1/20\n",
            "\u001b[1m1250/1250\u001b[0m \u001b[32m━━━━━━━━━━━━━━━━━━━━\u001b[0m\u001b[37m\u001b[0m \u001b[1m3s\u001b[0m 2ms/step - loss: 0.0041 - mae: 0.0389 - val_loss: 1.0913e-04 - val_mae: 0.0077\n",
            "Epoch 2/20\n",
            "\u001b[1m1250/1250\u001b[0m \u001b[32m━━━━━━━━━━━━━━━━━━━━\u001b[0m\u001b[37m\u001b[0m \u001b[1m2s\u001b[0m 2ms/step - loss: 1.1140e-04 - mae: 0.0077 - val_loss: 4.6696e-05 - val_mae: 0.0052\n",
            "Epoch 3/20\n",
            "\u001b[1m1250/1250\u001b[0m \u001b[32m━━━━━━━━━━━━━━━━━━━━\u001b[0m\u001b[37m\u001b[0m \u001b[1m3s\u001b[0m 2ms/step - loss: 7.8075e-05 - mae: 0.0068 - val_loss: 7.5156e-05 - val_mae: 0.0071\n",
            "Epoch 4/20\n",
            "\u001b[1m1250/1250\u001b[0m \u001b[32m━━━━━━━━━━━━━━━━━━━━\u001b[0m\u001b[37m\u001b[0m \u001b[1m3s\u001b[0m 2ms/step - loss: 5.8254e-05 - mae: 0.0058 - val_loss: 6.5064e-05 - val_mae: 0.0062\n",
            "Epoch 5/20\n",
            "\u001b[1m1250/1250\u001b[0m \u001b[32m━━━━━━━━━━━━━━━━━━━━\u001b[0m\u001b[37m\u001b[0m \u001b[1m5s\u001b[0m 2ms/step - loss: 4.6688e-05 - mae: 0.0052 - val_loss: 1.1202e-04 - val_mae: 0.0080\n",
            "Epoch 6/20\n",
            "\u001b[1m1250/1250\u001b[0m \u001b[32m━━━━━━━━━━━━━━━━━━━━\u001b[0m\u001b[37m\u001b[0m \u001b[1m3s\u001b[0m 2ms/step - loss: 4.8524e-05 - mae: 0.0052 - val_loss: 2.3273e-05 - val_mae: 0.0038\n",
            "Epoch 7/20\n",
            "\u001b[1m1250/1250\u001b[0m \u001b[32m━━━━━━━━━━━━━━━━━━━━\u001b[0m\u001b[37m\u001b[0m \u001b[1m3s\u001b[0m 2ms/step - loss: 2.9637e-05 - mae: 0.0042 - val_loss: 3.0012e-05 - val_mae: 0.0043\n",
            "Epoch 8/20\n",
            "\u001b[1m1250/1250\u001b[0m \u001b[32m━━━━━━━━━━━━━━━━━━━━\u001b[0m\u001b[37m\u001b[0m \u001b[1m3s\u001b[0m 2ms/step - loss: 2.3995e-05 - mae: 0.0037 - val_loss: 1.8192e-05 - val_mae: 0.0033\n",
            "Epoch 9/20\n",
            "\u001b[1m1250/1250\u001b[0m \u001b[32m━━━━━━━━━━━━━━━━━━━━\u001b[0m\u001b[37m\u001b[0m \u001b[1m4s\u001b[0m 3ms/step - loss: 2.2507e-05 - mae: 0.0036 - val_loss: 2.4309e-05 - val_mae: 0.0040\n",
            "Epoch 10/20\n",
            "\u001b[1m1250/1250\u001b[0m \u001b[32m━━━━━━━━━━━━━━━━━━━━\u001b[0m\u001b[37m\u001b[0m \u001b[1m2s\u001b[0m 2ms/step - loss: 2.3425e-05 - mae: 0.0037 - val_loss: 8.8616e-05 - val_mae: 0.0073\n",
            "Epoch 11/20\n",
            "\u001b[1m1250/1250\u001b[0m \u001b[32m━━━━━━━━━━━━━━━━━━━━\u001b[0m\u001b[37m\u001b[0m \u001b[1m3s\u001b[0m 2ms/step - loss: 2.0378e-05 - mae: 0.0034 - val_loss: 1.6433e-05 - val_mae: 0.0031\n",
            "Epoch 12/20\n",
            "\u001b[1m1250/1250\u001b[0m \u001b[32m━━━━━━━━━━━━━━━━━━━━\u001b[0m\u001b[37m\u001b[0m \u001b[1m2s\u001b[0m 2ms/step - loss: 1.8328e-05 - mae: 0.0033 - val_loss: 1.3086e-05 - val_mae: 0.0027\n",
            "Epoch 13/20\n",
            "\u001b[1m1250/1250\u001b[0m \u001b[32m━━━━━━━━━━━━━━━━━━━━\u001b[0m\u001b[37m\u001b[0m \u001b[1m2s\u001b[0m 2ms/step - loss: 1.5634e-05 - mae: 0.0030 - val_loss: 2.4672e-05 - val_mae: 0.0039\n",
            "Epoch 14/20\n",
            "\u001b[1m1250/1250\u001b[0m \u001b[32m━━━━━━━━━━━━━━━━━━━━\u001b[0m\u001b[37m\u001b[0m \u001b[1m3s\u001b[0m 3ms/step - loss: 1.8295e-05 - mae: 0.0032 - val_loss: 1.1806e-05 - val_mae: 0.0026\n",
            "Epoch 15/20\n",
            "\u001b[1m1250/1250\u001b[0m \u001b[32m━━━━━━━━━━━━━━━━━━━━\u001b[0m\u001b[37m\u001b[0m \u001b[1m3s\u001b[0m 2ms/step - loss: 1.3754e-05 - mae: 0.0028 - val_loss: 9.3307e-06 - val_mae: 0.0024\n",
            "Epoch 16/20\n",
            "\u001b[1m1250/1250\u001b[0m \u001b[32m━━━━━━━━━━━━━━━━━━━━\u001b[0m\u001b[37m\u001b[0m \u001b[1m3s\u001b[0m 2ms/step - loss: 1.2200e-05 - mae: 0.0027 - val_loss: 8.3590e-06 - val_mae: 0.0022\n",
            "Epoch 17/20\n",
            "\u001b[1m1250/1250\u001b[0m \u001b[32m━━━━━━━━━━━━━━━━━━━━\u001b[0m\u001b[37m\u001b[0m \u001b[1m2s\u001b[0m 2ms/step - loss: 1.1544e-05 - mae: 0.0026 - val_loss: 1.2289e-05 - val_mae: 0.0026\n",
            "Epoch 18/20\n",
            "\u001b[1m1250/1250\u001b[0m \u001b[32m━━━━━━━━━━━━━━━━━━━━\u001b[0m\u001b[37m\u001b[0m \u001b[1m3s\u001b[0m 2ms/step - loss: 1.0682e-05 - mae: 0.0025 - val_loss: 4.8472e-06 - val_mae: 0.0017\n",
            "Epoch 19/20\n",
            "\u001b[1m1250/1250\u001b[0m \u001b[32m━━━━━━━━━━━━━━━━━━━━\u001b[0m\u001b[37m\u001b[0m \u001b[1m3s\u001b[0m 3ms/step - loss: 1.0833e-05 - mae: 0.0025 - val_loss: 7.0855e-06 - val_mae: 0.0021\n",
            "Epoch 20/20\n",
            "\u001b[1m1250/1250\u001b[0m \u001b[32m━━━━━━━━━━━━━━━━━━━━\u001b[0m\u001b[37m\u001b[0m \u001b[1m4s\u001b[0m 2ms/step - loss: 9.6872e-06 - mae: 0.0024 - val_loss: 8.0760e-06 - val_mae: 0.0022\n",
            "\u001b[1m625/625\u001b[0m \u001b[32m━━━━━━━━━━━━━━━━━━━━\u001b[0m\u001b[37m\u001b[0m \u001b[1m1s\u001b[0m 1ms/step - loss: 8.0367e-06 - mae: 0.0022\n",
            "Perdita sul Test Set: 8.075994628597982e-06, MAE sul Test Set: 0.002208274556323886\n"
          ]
        },
        {
          "data": {
            "image/png": "[encoded data removed]",
            "text/plain": [
              "<Figure size 640x480 with 1 Axes>"
            ]
          },
          "metadata": {},
          "output_type": "display_data"
        }
      ],
      "source": [
        "from itertools import product\n",
        "\n",
        "hidden_layers = [64, 128]\n",
        "learning_rates = [0.01, 0.001]\n",
        "\n",
        "results = []\n",
        "\n",
        "for hl, lr in product(hidden_layers, learning_rates):\n",
        "    print(f\"Testing model with {hl} hidden neurons and {lr} learning rate\")\n",
        "\n",
        "    model = build_model(hidden_neurons=hl, learning_rate=lr)\n",
        "    history = model.fit(X_train, Y_train, validation_data=(X_test, Y_test), epochs=20, batch_size=32, verbose=0)\n",
        "    loss, mae = model.evaluate(X_test, Y_test, verbose=0)\n",
        "    results.append((hl, lr, loss, mae))\n",
        "\n",
        "# Riporta i risultati migliori\n",
        "for res in results:\n",
        "    print(f\"Hidden Neurons: {res[0]}, Learning Rate: {res[1]}, Loss: {res[2]}, MAE: {res[3]}\")\n",
        "# Ordina i risultati per loss\n",
        "sorted_results = sorted(results, key=lambda x: x[2])  # Ordina per perdita\n",
        "best_config = sorted_results[0]\n",
        "print(f\"Miglior configurazione trovata: Neuroni Nascosti={best_config[0]}, Learning Rate={best_config[1]}\")\n",
        "# Usa i parametri ottimali\n",
        "optimal_hidden_neurons = best_config[0]\n",
        "optimal_learning_rate = best_config[1]\n",
        "\n",
        "# Costruisci e addestra il modello finale\n",
        "model = build_model(hidden_neurons=optimal_hidden_neurons, learning_rate=optimal_learning_rate)\n",
        "history = model.fit(\n",
        "    X_train, Y_train,\n",
        "    validation_data=(X_test, Y_test),\n",
        "    epochs=20,\n",
        "    batch_size=64,\n",
        "    verbose=1\n",
        ")\n",
        "\n",
        "\n",
        "# Valuta il modello finale\n",
        "loss, mae = model.evaluate(X_test, Y_test)\n",
        "print(f\"Perdita sul Test Set: {loss}, MAE sul Test Set: {mae}\")\n",
        "\n",
        "# Traccia l'andamento della perdita\n",
        "plt.plot(history.history['loss'], label='Training Loss')\n",
        "plt.plot(history.history['val_loss'], label='Validation Loss')\n",
        "plt.legend()\n",
        "plt.show()\n",
        "\n",
        "\n"
      ]
    },
    {
      "cell_type": "markdown",
      "metadata": {
        "id": "ZcAFEV4udTou"
      },
      "source": [
        "#Definizione dei jacobiani"
      ]
    },
    {
      "cell_type": "code",
      "execution_count": null,
      "metadata": {
        "id": "nrAnGxbfNDaF"
      },
      "outputs": [],
      "source": [
        "@tf.function\n",
        "def FK_Jacobian(model, x):\n",
        "    with tf.GradientTape(persistent=True) as tape:\n",
        "        tape.watch(x)\n",
        "        y = FK(model, x)  # Forward pass\n",
        "    return tape.jacobian(y, x)\n",
        "\n",
        "def FK(model, theta):\n",
        "    # Reshape to batch size 1\n",
        "    t = tf.reshape(theta, shape=(1, 3))\n",
        "    out = model(t)\n",
        "    # Reshape to 1d vector\n",
        "    out = tf.reshape(out, shape=(2,))\n",
        "    return out\n",
        "\n",
        "def analytical_J_3R(theta, L1=0.1, L2=0.1, L3=0.1):\n",
        "    theta1, theta2, theta3 = theta\n",
        "    J = np.array([\n",
        "        [\n",
        "            -L1 * np.sin(theta1) - L2 * np.sin(theta1 + theta2) - L3 * np.sin(theta1 + theta2 + theta3),\n",
        "            -L2 * np.sin(theta1 + theta2) - L3 * np.sin(theta1 + theta2 + theta3),\n",
        "            -L3 * np.sin(theta1 + theta2 + theta3)\n",
        "        ],\n",
        "        [\n",
        "            L1 * np.cos(theta1) + L2 * np.cos(theta1 + theta2) + L3 * np.cos(theta1 + theta2 + theta3),\n",
        "            L2 * np.cos(theta1 + theta2) + L3 * np.cos(theta1 + theta2 + theta3),\n",
        "            L3 * np.cos(theta1 + theta2 + theta3)\n",
        "        ]\n",
        "    ])\n",
        "    return J\n",
        "\n"
      ]
    },
    {
      "cell_type": "code",
      "execution_count": null,
      "metadata": {
        "colab": {
          "base_uri": "https://localhost:8080/"
        },
        "id": "-5foge8iNI3Y",
        "outputId": "1b1904e2-613a-44c7-918b-9e78ab6824f5"
      },
      "outputs": [
        {
          "name": "stdout",
          "output_type": "stream",
          "text": [
            "Jacobiana appresa (flatten):\n",
            " [-0.06772009 -0.1271546  -0.06381221 -0.05284901 -0.00161506  0.04542582]\n",
            "\n",
            "Jacobiana analitica (flatten):\n",
            " [-0.05015627 -0.07281697  0.02713686 -0.00418951  0.09320912  0.09624755]\n",
            "\n",
            "Mean Squared Error (MSE): 0.0042458366887100744\n",
            "Jacobiana appresa:\n",
            " [[[-0.06772009 -0.1271546  -0.06381221]]\n",
            "\n",
            " [[-0.05284901 -0.00161506  0.04542582]]]\n",
            "\n",
            "Jacobiana analitica:\n",
            " [[-0.05015627 -0.07281697  0.02713686]\n",
            " [-0.00418951  0.09320912  0.09624755]]\n"
          ]
        }
      ],
      "source": [
        "# Esempio di confronto\n",
        "theta_sample = X_test[0]  # Primo esempio di test\n",
        "jacobian_learned = FK_Jacobian(model, tf.convert_to_tensor([theta_sample], dtype=tf.float32))\n",
        "jacobian_analytical = analytical_J_3R(theta_sample)\n",
        "import numpy as np\n",
        "\n",
        "# Supponiamo che jacobian_learned e jacobian_analytical siano già calcolate\n",
        "# Flatten delle matrici\n",
        "jacobian_learned_flat = jacobian_learned.numpy().flatten()\n",
        "jacobian_analytical_flat = jacobian_analytical.flatten()\n",
        "\n",
        "# Calcolo del MSE\n",
        "mse = np.mean((jacobian_learned_flat - jacobian_analytical_flat) ** 2)\n",
        "\n",
        "# Output\n",
        "print(\"Jacobiana appresa (flatten):\\n\", jacobian_learned_flat)\n",
        "print()\n",
        "print(\"Jacobiana analitica (flatten):\\n\", jacobian_analytical_flat)\n",
        "print()\n",
        "print(f\"Mean Squared Error (MSE): {mse}\")\n",
        "\n",
        "print(\"Jacobiana appresa:\\n\", jacobian_learned.numpy())\n",
        "print();\n",
        "print(\"Jacobiana analitica:\\n\", jacobian_analytical)\n",
        "\n"
      ]
    }
  ],
  "metadata": {
    "colab": {
      "provenance": [],
      "authorship_tag": "ABX9TyODafKOtV4M20oY26gJcxZE",
      "include_colab_link": true
    },
    "kernelspec": {
      "display_name": "Python 3",
      "name": "python3"
    },
    "language_info": {
      "name": "python"
    }
  },
  "nbformat": 4,
  "nbformat_minor": 0
}
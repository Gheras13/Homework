{
  "cells": [
    {
      "cell_type": "markdown",
      "metadata": {
        "id": "view-in-github",
        "colab_type": "text"
      },
      "source": [
        "<a href=\"https://colab.research.google.com/github/Gheras13/Homework/blob/main/Homewrok_1_5r.ipynb\" target=\"_parent\"><img src=\"https://colab.research.google.com/assets/colab-badge.svg\" alt=\"Open In Colab\"/></a>"
      ]
    },
    {
      "cell_type": "markdown",
      "metadata": {
        "id": "7u7FEl8kWjQW"
      },
      "source": [
        "#MACHINE LEARNING HOMEWORK 1\n",
        "\n",
        "#DIRECT KINEMATICS OF ROBOT MANIPLUATOR"
      ]
    },
    {
      "cell_type": "code",
      "execution_count": 1,
      "metadata": {
        "id": "GMC0IvrZxBSH"
      },
      "outputs": [],
      "source": [
        "import numpy as np\n",
        "import tensorflow as tf\n",
        "import pandas as pd\n",
        "from sklearn.model_selection import train_test_split\n",
        "from sklearn.preprocessing import StandardScaler\n",
        "import matplotlib.pyplot as plt\n"
      ]
    },
    {
      "cell_type": "code",
      "execution_count": 2,
      "metadata": {
        "colab": {
          "base_uri": "https://localhost:8080/"
        },
        "id": "n3BjXK3Q2vtj",
        "outputId": "4cff5e3e-5c8c-4dc0-c3d5-fcc1f610a955"
      },
      "outputs": [
        {
          "output_type": "stream",
          "name": "stdout",
          "text": [
            "Mounted at /content/drive\n"
          ]
        }
      ],
      "source": [
        "from google.colab import drive\n",
        "drive.mount('/content/drive')\n"
      ]
    },
    {
      "cell_type": "markdown",
      "metadata": {
        "id": "WTdw6AwT2Ydx"
      },
      "source": [
        "# Generate Data"
      ]
    },
    {
      "cell_type": "code",
      "execution_count": 3,
      "metadata": {
        "colab": {
          "base_uri": "https://localhost:8080/"
        },
        "id": "yqA2qADU2Tfg",
        "outputId": "4b55cd8e-aa3a-415c-cb66-700e0f90c370"
      },
      "outputs": [
        {
          "output_type": "stream",
          "name": "stdout",
          "text": [
            "Colonne disponibili nel dataset: ['j0', 'j1', 'j2', 'j3', 'j4', 'cos(j0)', 'cos(j1)', 'cos(j2)', 'cos(j3)', 'cos(j4)', 'sin(j0)', 'sin(j1)', 'sin(j2)', 'sin(j3)', 'sin(j4)', 'ee_x', 'ee_y', 'ee_z', 'ee_qw', 'ee_qx', 'ee_qy', 'ee_qz']\n",
            "Esempio di X (features): [[ 0.     0.     0.     0.     0.   ]\n",
            " [-0.017 -0.003 -0.03   0.002 -0.007]\n",
            " [-0.086 -0.04  -0.05   0.021 -0.025]\n",
            " [-0.176 -0.125 -0.047  0.022 -0.083]\n",
            " [-0.228 -0.202 -0.098 -0.025 -0.207]]\n",
            "Esempio di Y (target): [[ 0.     0.   ]\n",
            " [-0.011  0.001]\n",
            " [-0.03   0.006]\n",
            " [-0.065  0.022]\n",
            " [-0.12   0.053]]\n"
          ]
        }
      ],
      "source": [
        "\n",
        "\n",
        "# Percorso del file CSV\n",
        "file_path = '/content/drive/My Drive/File_csv/Copia di r5_20_100k.csv'\n",
        "# Carica il dataset\n",
        "dataset = pd.read_csv(file_path, sep=';', header=0)\n",
        "\n",
        "# Rimuovi eventuali spazi dai nomi delle colonne\n",
        "dataset.columns = dataset.columns.str.strip()\n",
        "#prendo i primi 1000 samples\n",
        "df = dataset.iloc[:1000]\n",
        "# Stampa i nomi delle colonne disponibili\n",
        "print(\"Colonne disponibili nel dataset:\", df.columns.tolist())\n",
        "\n",
        "# Estrai le feature (j0, j1) e i target (ee_x, ee_y)\n",
        "X = df[['j0', 'j1','j2','j3','j4']].values  # Angoli articolari\n",
        "Y = df[['ee_x', 'ee_y']].values  # Posizioni finali (end-effector)\n",
        "\n",
        "# Verifica i dati caricati\n",
        "print(\"Esempio di X (features):\", X[:5])  # Prime 5 righe delle feature\n",
        "print(\"Esempio di Y (target):\", Y[:5])  # Prime 5 righe del target\n"
      ]
    },
    {
      "cell_type": "code",
      "execution_count": 4,
      "metadata": {
        "colab": {
          "base_uri": "https://localhost:8080/",
          "height": 54
        },
        "id": "Ez9Y2iKpMJqJ",
        "outputId": "f5655836-0abf-4779-cfd3-62035efe3d15"
      },
      "outputs": [
        {
          "output_type": "execute_result",
          "data": {
            "text/plain": [
              "'\\n# (Opzionale) Standardizza gli input per migliorare la stabilità numerica\\nscaler_X = StandardScaler()\\nscaler_Y = StandardScaler()\\n\\nX_train = scaler_X.fit_transform(X_train)\\nX_test = scaler_X.transform(X_test)\\n\\nY_train = scaler_Y.fit_transform(Y_train)\\nY_test = scaler_Y.transform(Y_test)\\n'"
            ],
            "application/vnd.google.colaboratory.intrinsic+json": {
              "type": "string"
            }
          },
          "metadata": {},
          "execution_count": 4
        }
      ],
      "source": [
        "# Dividi i dati in training e testing\n",
        "X_train, X_test, Y_train, Y_test = train_test_split(X, Y, test_size=0.2, random_state=42)\n",
        "\"\"\"\n",
        "# (Opzionale) Standardizza gli input per migliorare la stabilità numerica\n",
        "scaler_X = StandardScaler()\n",
        "scaler_Y = StandardScaler()\n",
        "\n",
        "X_train = scaler_X.fit_transform(X_train)\n",
        "X_test = scaler_X.transform(X_test)\n",
        "\n",
        "Y_train = scaler_Y.fit_transform(Y_train)\n",
        "Y_test = scaler_Y.transform(Y_test)\n",
        "\"\"\""
      ]
    },
    {
      "cell_type": "markdown",
      "metadata": {
        "id": "HfIHF2z-WH8H"
      },
      "source": [
        "# Test del modello"
      ]
    },
    {
      "cell_type": "markdown",
      "metadata": {
        "id": "CLwmCkjQWZ_Y"
      },
      "source": [
        "Rete neurale FeedForward con tensorflow\n",
        "\n",
        "Definisce una rete neurale feedforward in cui i layer sono collegati uno dopo l'altro (architettura sequenziale).\n",
        "Ogni layer prende in input l'output del layer precedente.\n",
        "\n",
        "Definizione di una rete neurale feedforward per la cinematica diretta.\n",
        " Struttura:\n",
        " - Input: 2 caratteristiche (angoli articolari).\n",
        " - 3 layer nascosti con attivazione ReLU.\n",
        " - Output: 2 caratteristiche (posizione terminale x, y).\n"
      ]
    },
    {
      "cell_type": "code",
      "execution_count": 5,
      "metadata": {
        "id": "HBwcCHbeit46"
      },
      "outputs": [],
      "source": [
        "def build_model(hidden_neurons, learning_rate):\n",
        "    \"\"\"\n",
        "    Crea un modello di rete neurale con i parametri specificati.\n",
        "\n",
        "    Args:\n",
        "        hidden_neurons (int): Numero di neuroni negli strati nascosti.\n",
        "        learning_rate (float): Tasso di apprendimento per l'ottimizzatore.\n",
        "\n",
        "    Returns:\n",
        "        tf.keras.Sequential: Modello compilato.\n",
        "    \"\"\"\n",
        "    model = tf.keras.Sequential([\n",
        "        tf.keras.layers.Dense(hidden_neurons, activation='relu', input_shape=(5,)),\n",
        "        tf.keras.layers.Dense(hidden_neurons, activation='relu'),\n",
        "        tf.keras.layers.Dense(2)\n",
        "    ])\n",
        "    model.compile(\n",
        "        optimizer=tf.keras.optimizers.Adam(learning_rate=learning_rate),\n",
        "        loss='mse',\n",
        "        metrics=['mae']\n",
        "    )\n",
        "    return model\n"
      ]
    },
    {
      "cell_type": "markdown",
      "metadata": {
        "id": "HAczh-_rX-yS"
      },
      "source": [
        " Configurazione del modello per l'addestramento:\n",
        " - Ottimizzatore: Adam (learning_rate=0.01).\n",
        " - Funzione di perdita: Mean Squared Error (MSE).\n",
        " - Metriche: Mean Absolute Error (MAE).\n"
      ]
    },
    {
      "cell_type": "markdown",
      "metadata": {
        "id": "__wD-_mYYI0H"
      },
      "source": [
        "# Valutazione finale del modello sul set di test.\n",
        "# Metriche:\n",
        "# - `loss`: Errore quadratico medio (MSE), risulterà essere la nostra LOSS FUNCTION.\n",
        "# - `mae`: Errore assoluto medio.\n",
        "# Come SOLVER è stato scelto ADAM\n"
      ]
    },
    {
      "cell_type": "code",
      "execution_count": 6,
      "metadata": {
        "colab": {
          "base_uri": "https://localhost:8080/",
          "height": 1000
        },
        "id": "qkAIjYvvNK98",
        "outputId": "087f6128-32c5-42fb-ccb6-a772d1b4a52b"
      },
      "outputs": [
        {
          "output_type": "stream",
          "name": "stdout",
          "text": [
            "Testing model with 64 hidden neurons and 0.01 learning rate\n"
          ]
        },
        {
          "output_type": "stream",
          "name": "stderr",
          "text": [
            "/usr/local/lib/python3.10/dist-packages/keras/src/layers/core/dense.py:87: UserWarning: Do not pass an `input_shape`/`input_dim` argument to a layer. When using Sequential models, prefer using an `Input(shape)` object as the first layer in the model instead.\n",
            "  super().__init__(activity_regularizer=activity_regularizer, **kwargs)\n"
          ]
        },
        {
          "output_type": "stream",
          "name": "stdout",
          "text": [
            "Testing model with 64 hidden neurons and 0.001 learning rate\n",
            "Testing model with 128 hidden neurons and 0.01 learning rate\n",
            "Testing model with 128 hidden neurons and 0.001 learning rate\n",
            "Hidden Neurons: 64, Learning Rate: 0.01, Loss: 0.0011745330411940813, MAE: 0.025636546313762665\n",
            "Hidden Neurons: 64, Learning Rate: 0.001, Loss: 0.0015215808525681496, MAE: 0.028353385627269745\n",
            "Hidden Neurons: 128, Learning Rate: 0.01, Loss: 0.0006738440133631229, MAE: 0.018286719918251038\n",
            "Hidden Neurons: 128, Learning Rate: 0.001, Loss: 0.0009737238870002329, MAE: 0.02304103597998619\n",
            "Miglior configurazione trovata: Neuroni Nascosti=128, Learning Rate=0.01\n",
            "Epoch 1/20\n",
            "\u001b[1m13/13\u001b[0m \u001b[32m━━━━━━━━━━━━━━━━━━━━\u001b[0m\u001b[37m\u001b[0m \u001b[1m1s\u001b[0m 25ms/step - loss: 0.0642 - mae: 0.1938 - val_loss: 0.0155 - val_mae: 0.1027\n",
            "Epoch 2/20\n",
            "\u001b[1m13/13\u001b[0m \u001b[32m━━━━━━━━━━━━━━━━━━━━\u001b[0m\u001b[37m\u001b[0m \u001b[1m0s\u001b[0m 8ms/step - loss: 0.0111 - mae: 0.0829 - val_loss: 0.0085 - val_mae: 0.0716\n",
            "Epoch 3/20\n",
            "\u001b[1m13/13\u001b[0m \u001b[32m━━━━━━━━━━━━━━━━━━━━\u001b[0m\u001b[37m\u001b[0m \u001b[1m0s\u001b[0m 7ms/step - loss: 0.0070 - mae: 0.0630 - val_loss: 0.0057 - val_mae: 0.0568\n",
            "Epoch 4/20\n",
            "\u001b[1m13/13\u001b[0m \u001b[32m━━━━━━━━━━━━━━━━━━━━\u001b[0m\u001b[37m\u001b[0m \u001b[1m0s\u001b[0m 8ms/step - loss: 0.0045 - mae: 0.0497 - val_loss: 0.0040 - val_mae: 0.0464\n",
            "Epoch 5/20\n",
            "\u001b[1m13/13\u001b[0m \u001b[32m━━━━━━━━━━━━━━━━━━━━\u001b[0m\u001b[37m\u001b[0m \u001b[1m0s\u001b[0m 7ms/step - loss: 0.0030 - mae: 0.0399 - val_loss: 0.0031 - val_mae: 0.0406\n",
            "Epoch 6/20\n",
            "\u001b[1m13/13\u001b[0m \u001b[32m━━━━━━━━━━━━━━━━━━━━\u001b[0m\u001b[37m\u001b[0m \u001b[1m0s\u001b[0m 12ms/step - loss: 0.0022 - mae: 0.0342 - val_loss: 0.0027 - val_mae: 0.0381\n",
            "Epoch 7/20\n",
            "\u001b[1m13/13\u001b[0m \u001b[32m━━━━━━━━━━━━━━━━━━━━\u001b[0m\u001b[37m\u001b[0m \u001b[1m0s\u001b[0m 6ms/step - loss: 0.0018 - mae: 0.0314 - val_loss: 0.0020 - val_mae: 0.0325\n",
            "Epoch 8/20\n",
            "\u001b[1m13/13\u001b[0m \u001b[32m━━━━━━━━━━━━━━━━━━━━\u001b[0m\u001b[37m\u001b[0m \u001b[1m0s\u001b[0m 7ms/step - loss: 0.0014 - mae: 0.0275 - val_loss: 0.0017 - val_mae: 0.0292\n",
            "Epoch 9/20\n",
            "\u001b[1m13/13\u001b[0m \u001b[32m━━━━━━━━━━━━━━━━━━━━\u001b[0m\u001b[37m\u001b[0m \u001b[1m0s\u001b[0m 6ms/step - loss: 0.0010 - mae: 0.0236 - val_loss: 0.0013 - val_mae: 0.0269\n",
            "Epoch 10/20\n",
            "\u001b[1m13/13\u001b[0m \u001b[32m━━━━━━━━━━━━━━━━━━━━\u001b[0m\u001b[37m\u001b[0m \u001b[1m0s\u001b[0m 8ms/step - loss: 8.5237e-04 - mae: 0.0220 - val_loss: 0.0012 - val_mae: 0.0253\n",
            "Epoch 11/20\n",
            "\u001b[1m13/13\u001b[0m \u001b[32m━━━━━━━━━━━━━━━━━━━━\u001b[0m\u001b[37m\u001b[0m \u001b[1m0s\u001b[0m 8ms/step - loss: 6.4925e-04 - mae: 0.0189 - val_loss: 0.0011 - val_mae: 0.0240\n",
            "Epoch 12/20\n",
            "\u001b[1m13/13\u001b[0m \u001b[32m━━━━━━━━━━━━━━━━━━━━\u001b[0m\u001b[37m\u001b[0m \u001b[1m0s\u001b[0m 9ms/step - loss: 6.6292e-04 - mae: 0.0196 - val_loss: 0.0010 - val_mae: 0.0232\n",
            "Epoch 13/20\n",
            "\u001b[1m13/13\u001b[0m \u001b[32m━━━━━━━━━━━━━━━━━━━━\u001b[0m\u001b[37m\u001b[0m \u001b[1m0s\u001b[0m 7ms/step - loss: 5.6776e-04 - mae: 0.0179 - val_loss: 0.0010 - val_mae: 0.0224\n",
            "Epoch 14/20\n",
            "\u001b[1m13/13\u001b[0m \u001b[32m━━━━━━━━━━━━━━━━━━━━\u001b[0m\u001b[37m\u001b[0m \u001b[1m0s\u001b[0m 8ms/step - loss: 5.5548e-04 - mae: 0.0181 - val_loss: 8.5168e-04 - val_mae: 0.0209\n",
            "Epoch 15/20\n",
            "\u001b[1m13/13\u001b[0m \u001b[32m━━━━━━━━━━━━━━━━━━━━\u001b[0m\u001b[37m\u001b[0m \u001b[1m0s\u001b[0m 7ms/step - loss: 4.1629e-04 - mae: 0.0155 - val_loss: 7.3464e-04 - val_mae: 0.0190\n",
            "Epoch 16/20\n",
            "\u001b[1m13/13\u001b[0m \u001b[32m━━━━━━━━━━━━━━━━━━━━\u001b[0m\u001b[37m\u001b[0m \u001b[1m0s\u001b[0m 7ms/step - loss: 3.8238e-04 - mae: 0.0146 - val_loss: 7.7485e-04 - val_mae: 0.0200\n",
            "Epoch 17/20\n",
            "\u001b[1m13/13\u001b[0m \u001b[32m━━━━━━━━━━━━━━━━━━━━\u001b[0m\u001b[37m\u001b[0m \u001b[1m0s\u001b[0m 9ms/step - loss: 3.8058e-04 - mae: 0.0145 - val_loss: 6.9724e-04 - val_mae: 0.0188\n",
            "Epoch 18/20\n",
            "\u001b[1m13/13\u001b[0m \u001b[32m━━━━━━━━━━━━━━━━━━━━\u001b[0m\u001b[37m\u001b[0m \u001b[1m0s\u001b[0m 8ms/step - loss: 3.6149e-04 - mae: 0.0142 - val_loss: 6.2265e-04 - val_mae: 0.0187\n",
            "Epoch 19/20\n",
            "\u001b[1m13/13\u001b[0m \u001b[32m━━━━━━━━━━━━━━━━━━━━\u001b[0m\u001b[37m\u001b[0m \u001b[1m0s\u001b[0m 4ms/step - loss: 3.0870e-04 - mae: 0.0134 - val_loss: 7.0803e-04 - val_mae: 0.0191\n",
            "Epoch 20/20\n",
            "\u001b[1m13/13\u001b[0m \u001b[32m━━━━━━━━━━━━━━━━━━━━\u001b[0m\u001b[37m\u001b[0m \u001b[1m0s\u001b[0m 4ms/step - loss: 2.9476e-04 - mae: 0.0130 - val_loss: 7.7832e-04 - val_mae: 0.0200\n",
            "\u001b[1m7/7\u001b[0m \u001b[32m━━━━━━━━━━━━━━━━━━━━\u001b[0m\u001b[37m\u001b[0m \u001b[1m0s\u001b[0m 2ms/step - loss: 7.4558e-04 - mae: 0.0199 \n",
            "Perdita sul Test Set: 0.0007783237379044294, MAE sul Test Set: 0.019958604127168655\n"
          ]
        },
        {
          "output_type": "display_data",
          "data": {
            "text/plain": [
              "<Figure size 640x480 with 1 Axes>"
            ],
            "image/png": "[encoded data removed]"
          },
          "metadata": {}
        }
      ],
      "source": [
        "from itertools import product\n",
        "\n",
        "hidden_layers = [64, 128]\n",
        "learning_rates = [0.01, 0.001]\n",
        "\n",
        "results = []\n",
        "\n",
        "for hl, lr in product(hidden_layers, learning_rates):\n",
        "    print(f\"Testing model with {hl} hidden neurons and {lr} learning rate\")\n",
        "\n",
        "    model = build_model(hidden_neurons=hl, learning_rate=lr)\n",
        "    history = model.fit(X_train, Y_train, validation_data=(X_test, Y_test), epochs=20, batch_size=32, verbose=0)\n",
        "    loss, mae = model.evaluate(X_test, Y_test, verbose=0)\n",
        "    results.append((hl, lr, loss, mae))\n",
        "\n",
        "# Riporta i risultati migliori\n",
        "for res in results:\n",
        "    print(f\"Hidden Neurons: {res[0]}, Learning Rate: {res[1]}, Loss: {res[2]}, MAE: {res[3]}\")\n",
        "# Ordina i risultati per loss\n",
        "sorted_results = sorted(results, key=lambda x: x[2])  # Ordina per perdita\n",
        "best_config = sorted_results[0]\n",
        "print(f\"Miglior configurazione trovata: Neuroni Nascosti={best_config[0]}, Learning Rate={best_config[1]}\")\n",
        "# Usa i parametri ottimali\n",
        "optimal_hidden_neurons = best_config[0]\n",
        "optimal_learning_rate = best_config[1]\n",
        "\n",
        "# Costruisci e addestra il modello finale\n",
        "model = build_model(hidden_neurons=optimal_hidden_neurons, learning_rate=optimal_learning_rate)\n",
        "history = model.fit(\n",
        "    X_train, Y_train,\n",
        "    validation_data=(X_test, Y_test),\n",
        "    epochs=20,\n",
        "    batch_size=64,\n",
        "    verbose=1\n",
        ")\n",
        "\n",
        "\n",
        "# Valuta il modello finale\n",
        "loss, mae = model.evaluate(X_test, Y_test)\n",
        "print(f\"Perdita sul Test Set: {loss}, MAE sul Test Set: {mae}\")\n",
        "\n",
        "# Traccia l'andamento della perdita\n",
        "plt.plot(history.history['loss'], label='Training Loss')\n",
        "plt.plot(history.history['val_loss'], label='Validation Loss')\n",
        "plt.legend()\n",
        "plt.show()\n",
        "\n",
        "\n"
      ]
    },
    {
      "cell_type": "markdown",
      "metadata": {
        "id": "ZcAFEV4udTou"
      },
      "source": [
        "#Definizione dei jacobiani"
      ]
    },
    {
      "cell_type": "code",
      "execution_count": 9,
      "metadata": {
        "id": "nrAnGxbfNDaF"
      },
      "outputs": [],
      "source": [
        "@tf.function\n",
        "def FK_Jacobian(model, x):\n",
        "    with tf.GradientTape(persistent=True) as tape:\n",
        "        tape.watch(x)\n",
        "        y = FK(model, x)  # Forward pass\n",
        "    return tape.jacobian(y, x)\n",
        "\n",
        "def FK(model, theta):\n",
        "    # Reshape to batch size 1\n",
        "    t = tf.reshape(theta, shape=(1, 5))\n",
        "    out = model(t)\n",
        "    # Reshape to 1d vector\n",
        "    out = tf.reshape(out, shape=(2,))\n",
        "    return out\n",
        "\n",
        "import numpy as np\n",
        "\n",
        "def analytical_J_5R(theta, L=[0.1, 0.1, 0.1, 0.1, 0.1]):\n",
        "    \"\"\"\n",
        "    Calcola la Jacobiana analitica per un robot 5R.\n",
        "    \"\"\"\n",
        "    theta = np.cumsum(theta)  # Somma cumulativa degli angoli\n",
        "    J = np.zeros((2, 5))\n",
        "\n",
        "    # Calcolo delle derivate\n",
        "    for i in range(5):\n",
        "        J[0, i] = -sum(L[j] * np.sin(theta[j]) for j in range(i, 5))  # Derivata parziale di x\n",
        "        J[1, i] = sum(L[j] * np.cos(theta[j]) for j in range(i, 5))   # Derivata parziale di y\n",
        "\n",
        "    return J\n"
      ]
    },
    {
      "cell_type": "code",
      "execution_count": 10,
      "metadata": {
        "colab": {
          "base_uri": "https://localhost:8080/"
        },
        "id": "-5foge8iNI3Y",
        "outputId": "025abf24-1863-49bf-9847-1a1d87379f51"
      },
      "outputs": [
        {
          "output_type": "stream",
          "name": "stdout",
          "text": [
            "Jacobiana appresa (flatten):\n",
            " [-0.06759153  0.10514703  0.07115312 -0.00839201  0.124034    0.36303318\n",
            "  0.03838249  0.02635653  0.08462036 -0.13087468]\n",
            "\n",
            "Jacobiana analitica (flatten):\n",
            " [-0.36694948 -0.31519321 -0.21527005 -0.16286561 -0.0658326  -0.1029756\n",
            " -0.18854013 -0.18462077 -0.09945167 -0.0752733 ]\n",
            "\n",
            "Mean Squared Error (MSE): 0.07583942474973701\n",
            "Jacobiana appresa:\n",
            " [[[-0.06759153  0.10514703  0.07115312 -0.00839201  0.124034  ]]\n",
            "\n",
            " [[ 0.36303318  0.03838249  0.02635653  0.08462036 -0.13087468]]]\n",
            "\n",
            "Jacobiana analitica:\n",
            " [[-0.36694948 -0.31519321 -0.21527005 -0.16286561 -0.0658326 ]\n",
            " [-0.1029756  -0.18854013 -0.18462077 -0.09945167 -0.0752733 ]]\n"
          ]
        }
      ],
      "source": [
        "# Esempio di confronto\n",
        "theta_sample = X_test[0]  # Primo esempio di test\n",
        "jacobian_learned = FK_Jacobian(model, tf.convert_to_tensor([theta_sample], dtype=tf.float32))\n",
        "jacobian_analytical = analytical_J_5R(theta_sample)\n",
        "import numpy as np\n",
        "\n",
        "# Supponiamo che jacobian_learned e jacobian_analytical siano già calcolate\n",
        "# Flatten delle matrici\n",
        "jacobian_learned_flat = jacobian_learned.numpy().flatten()\n",
        "jacobian_analytical_flat = jacobian_analytical.flatten()\n",
        "\n",
        "# Calcolo del MSE\n",
        "mse = np.mean((jacobian_learned_flat - jacobian_analytical_flat) ** 2)\n",
        "\n",
        "# Output\n",
        "print(\"Jacobiana appresa (flatten):\\n\", jacobian_learned_flat)\n",
        "print()\n",
        "print(\"Jacobiana analitica (flatten):\\n\", jacobian_analytical_flat)\n",
        "print()\n",
        "print(f\"Mean Squared Error (MSE): {mse}\")\n",
        "\n",
        "print(\"Jacobiana appresa:\\n\", jacobian_learned.numpy())\n",
        "print();\n",
        "print(\"Jacobiana analitica:\\n\", jacobian_analytical)\n",
        "\n"
      ]
    }
  ],
  "metadata": {
    "colab": {
      "provenance": [],
      "include_colab_link": true
    },
    "kernelspec": {
      "display_name": "Python 3",
      "name": "python3"
    },
    "language_info": {
      "name": "python"
    }
  },
  "nbformat": 4,
  "nbformat_minor": 0
}